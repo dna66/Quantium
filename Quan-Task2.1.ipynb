{
 "cells": [
  {
   "cell_type": "code",
   "execution_count": 1,
   "metadata": {},
   "outputs": [],
   "source": [
    "import pandas as pd\n",
    "import numpy as np\n",
    "from datetime import datetime\n",
    "import warnings\n",
    "import seaborn as sb\n",
    "import seaborn as sns\n",
    "import matplotlib.pyplot as plt\n",
    "%matplotlib inline\n",
    "from sklearn.metrics import confusion_matrix\n",
    "warnings.filterwarnings('ignore')"
   ]
  },
  {
   "cell_type": "code",
   "execution_count": 2,
   "metadata": {},
   "outputs": [],
   "source": [
    "df = pd.read_csv(\"QVI_data.csv\")"
   ]
  },
  {
   "cell_type": "code",
   "execution_count": 3,
   "metadata": {},
   "outputs": [
    {
     "data": {
      "text/html": [
       "<div>\n",
       "<style scoped>\n",
       "    .dataframe tbody tr th:only-of-type {\n",
       "        vertical-align: middle;\n",
       "    }\n",
       "\n",
       "    .dataframe tbody tr th {\n",
       "        vertical-align: top;\n",
       "    }\n",
       "\n",
       "    .dataframe thead th {\n",
       "        text-align: right;\n",
       "    }\n",
       "</style>\n",
       "<table border=\"1\" class=\"dataframe\">\n",
       "  <thead>\n",
       "    <tr style=\"text-align: right;\">\n",
       "      <th></th>\n",
       "      <th>LYLTY_CARD_NBR</th>\n",
       "      <th>DATE</th>\n",
       "      <th>STORE_NBR</th>\n",
       "      <th>TXN_ID</th>\n",
       "      <th>PROD_NBR</th>\n",
       "      <th>PROD_NAME</th>\n",
       "      <th>PROD_QTY</th>\n",
       "      <th>TOT_SALES</th>\n",
       "      <th>PACK_SIZE</th>\n",
       "      <th>BRAND</th>\n",
       "      <th>LIFESTAGE</th>\n",
       "      <th>PREMIUM_CUSTOMER</th>\n",
       "    </tr>\n",
       "  </thead>\n",
       "  <tbody>\n",
       "    <tr>\n",
       "      <th>0</th>\n",
       "      <td>1000</td>\n",
       "      <td>2018-10-17</td>\n",
       "      <td>1</td>\n",
       "      <td>1</td>\n",
       "      <td>5</td>\n",
       "      <td>Natural Chip        Compny SeaSalt175g</td>\n",
       "      <td>2</td>\n",
       "      <td>6.0</td>\n",
       "      <td>175</td>\n",
       "      <td>NATURAL</td>\n",
       "      <td>YOUNG SINGLES/COUPLES</td>\n",
       "      <td>Premium</td>\n",
       "    </tr>\n",
       "    <tr>\n",
       "      <th>1</th>\n",
       "      <td>1002</td>\n",
       "      <td>2018-09-16</td>\n",
       "      <td>1</td>\n",
       "      <td>2</td>\n",
       "      <td>58</td>\n",
       "      <td>Red Rock Deli Chikn&amp;Garlic Aioli 150g</td>\n",
       "      <td>1</td>\n",
       "      <td>2.7</td>\n",
       "      <td>150</td>\n",
       "      <td>RRD</td>\n",
       "      <td>YOUNG SINGLES/COUPLES</td>\n",
       "      <td>Mainstream</td>\n",
       "    </tr>\n",
       "    <tr>\n",
       "      <th>2</th>\n",
       "      <td>1003</td>\n",
       "      <td>2019-03-07</td>\n",
       "      <td>1</td>\n",
       "      <td>3</td>\n",
       "      <td>52</td>\n",
       "      <td>Grain Waves Sour    Cream&amp;Chives 210G</td>\n",
       "      <td>1</td>\n",
       "      <td>3.6</td>\n",
       "      <td>210</td>\n",
       "      <td>GRNWVES</td>\n",
       "      <td>YOUNG FAMILIES</td>\n",
       "      <td>Budget</td>\n",
       "    </tr>\n",
       "    <tr>\n",
       "      <th>3</th>\n",
       "      <td>1003</td>\n",
       "      <td>2019-03-08</td>\n",
       "      <td>1</td>\n",
       "      <td>4</td>\n",
       "      <td>106</td>\n",
       "      <td>Natural ChipCo      Hony Soy Chckn175g</td>\n",
       "      <td>1</td>\n",
       "      <td>3.0</td>\n",
       "      <td>175</td>\n",
       "      <td>NATURAL</td>\n",
       "      <td>YOUNG FAMILIES</td>\n",
       "      <td>Budget</td>\n",
       "    </tr>\n",
       "    <tr>\n",
       "      <th>4</th>\n",
       "      <td>1004</td>\n",
       "      <td>2018-11-02</td>\n",
       "      <td>1</td>\n",
       "      <td>5</td>\n",
       "      <td>96</td>\n",
       "      <td>WW Original Stacked Chips 160g</td>\n",
       "      <td>1</td>\n",
       "      <td>1.9</td>\n",
       "      <td>160</td>\n",
       "      <td>WOOLWORTHS</td>\n",
       "      <td>OLDER SINGLES/COUPLES</td>\n",
       "      <td>Mainstream</td>\n",
       "    </tr>\n",
       "  </tbody>\n",
       "</table>\n",
       "</div>"
      ],
      "text/plain": [
       "   LYLTY_CARD_NBR        DATE  STORE_NBR  TXN_ID  PROD_NBR  \\\n",
       "0            1000  2018-10-17          1       1         5   \n",
       "1            1002  2018-09-16          1       2        58   \n",
       "2            1003  2019-03-07          1       3        52   \n",
       "3            1003  2019-03-08          1       4       106   \n",
       "4            1004  2018-11-02          1       5        96   \n",
       "\n",
       "                                PROD_NAME  PROD_QTY  TOT_SALES  PACK_SIZE  \\\n",
       "0  Natural Chip        Compny SeaSalt175g         2        6.0        175   \n",
       "1   Red Rock Deli Chikn&Garlic Aioli 150g         1        2.7        150   \n",
       "2   Grain Waves Sour    Cream&Chives 210G         1        3.6        210   \n",
       "3  Natural ChipCo      Hony Soy Chckn175g         1        3.0        175   \n",
       "4          WW Original Stacked Chips 160g         1        1.9        160   \n",
       "\n",
       "        BRAND              LIFESTAGE PREMIUM_CUSTOMER  \n",
       "0     NATURAL  YOUNG SINGLES/COUPLES          Premium  \n",
       "1         RRD  YOUNG SINGLES/COUPLES       Mainstream  \n",
       "2     GRNWVES         YOUNG FAMILIES           Budget  \n",
       "3     NATURAL         YOUNG FAMILIES           Budget  \n",
       "4  WOOLWORTHS  OLDER SINGLES/COUPLES       Mainstream  "
      ]
     },
     "execution_count": 3,
     "metadata": {},
     "output_type": "execute_result"
    }
   ],
   "source": [
    "df.head()"
   ]
  },
  {
   "cell_type": "code",
   "execution_count": 4,
   "metadata": {},
   "outputs": [
    {
     "data": {
      "text/html": [
       "<div>\n",
       "<style scoped>\n",
       "    .dataframe tbody tr th:only-of-type {\n",
       "        vertical-align: middle;\n",
       "    }\n",
       "\n",
       "    .dataframe tbody tr th {\n",
       "        vertical-align: top;\n",
       "    }\n",
       "\n",
       "    .dataframe thead th {\n",
       "        text-align: right;\n",
       "    }\n",
       "</style>\n",
       "<table border=\"1\" class=\"dataframe\">\n",
       "  <thead>\n",
       "    <tr style=\"text-align: right;\">\n",
       "      <th></th>\n",
       "      <th>LYLTY_CARD_NBR</th>\n",
       "      <th>STORE_NBR</th>\n",
       "      <th>TXN_ID</th>\n",
       "      <th>PROD_NBR</th>\n",
       "      <th>PROD_QTY</th>\n",
       "      <th>TOT_SALES</th>\n",
       "      <th>PACK_SIZE</th>\n",
       "    </tr>\n",
       "  </thead>\n",
       "  <tbody>\n",
       "    <tr>\n",
       "      <th>count</th>\n",
       "      <td>2.648340e+05</td>\n",
       "      <td>264834.000000</td>\n",
       "      <td>2.648340e+05</td>\n",
       "      <td>264834.000000</td>\n",
       "      <td>264834.000000</td>\n",
       "      <td>264834.000000</td>\n",
       "      <td>264834.000000</td>\n",
       "    </tr>\n",
       "    <tr>\n",
       "      <th>mean</th>\n",
       "      <td>1.355488e+05</td>\n",
       "      <td>135.079423</td>\n",
       "      <td>1.351576e+05</td>\n",
       "      <td>56.583554</td>\n",
       "      <td>1.905813</td>\n",
       "      <td>7.299346</td>\n",
       "      <td>182.425512</td>\n",
       "    </tr>\n",
       "    <tr>\n",
       "      <th>std</th>\n",
       "      <td>8.057990e+04</td>\n",
       "      <td>76.784063</td>\n",
       "      <td>7.813292e+04</td>\n",
       "      <td>32.826444</td>\n",
       "      <td>0.343436</td>\n",
       "      <td>2.527241</td>\n",
       "      <td>64.325148</td>\n",
       "    </tr>\n",
       "    <tr>\n",
       "      <th>min</th>\n",
       "      <td>1.000000e+03</td>\n",
       "      <td>1.000000</td>\n",
       "      <td>1.000000e+00</td>\n",
       "      <td>1.000000</td>\n",
       "      <td>1.000000</td>\n",
       "      <td>1.500000</td>\n",
       "      <td>70.000000</td>\n",
       "    </tr>\n",
       "    <tr>\n",
       "      <th>25%</th>\n",
       "      <td>7.002100e+04</td>\n",
       "      <td>70.000000</td>\n",
       "      <td>6.760050e+04</td>\n",
       "      <td>28.000000</td>\n",
       "      <td>2.000000</td>\n",
       "      <td>5.400000</td>\n",
       "      <td>150.000000</td>\n",
       "    </tr>\n",
       "    <tr>\n",
       "      <th>50%</th>\n",
       "      <td>1.303570e+05</td>\n",
       "      <td>130.000000</td>\n",
       "      <td>1.351365e+05</td>\n",
       "      <td>56.000000</td>\n",
       "      <td>2.000000</td>\n",
       "      <td>7.400000</td>\n",
       "      <td>170.000000</td>\n",
       "    </tr>\n",
       "    <tr>\n",
       "      <th>75%</th>\n",
       "      <td>2.030940e+05</td>\n",
       "      <td>203.000000</td>\n",
       "      <td>2.026998e+05</td>\n",
       "      <td>85.000000</td>\n",
       "      <td>2.000000</td>\n",
       "      <td>9.200000</td>\n",
       "      <td>175.000000</td>\n",
       "    </tr>\n",
       "    <tr>\n",
       "      <th>max</th>\n",
       "      <td>2.373711e+06</td>\n",
       "      <td>272.000000</td>\n",
       "      <td>2.415841e+06</td>\n",
       "      <td>114.000000</td>\n",
       "      <td>5.000000</td>\n",
       "      <td>29.500000</td>\n",
       "      <td>380.000000</td>\n",
       "    </tr>\n",
       "  </tbody>\n",
       "</table>\n",
       "</div>"
      ],
      "text/plain": [
       "       LYLTY_CARD_NBR      STORE_NBR        TXN_ID       PROD_NBR  \\\n",
       "count    2.648340e+05  264834.000000  2.648340e+05  264834.000000   \n",
       "mean     1.355488e+05     135.079423  1.351576e+05      56.583554   \n",
       "std      8.057990e+04      76.784063  7.813292e+04      32.826444   \n",
       "min      1.000000e+03       1.000000  1.000000e+00       1.000000   \n",
       "25%      7.002100e+04      70.000000  6.760050e+04      28.000000   \n",
       "50%      1.303570e+05     130.000000  1.351365e+05      56.000000   \n",
       "75%      2.030940e+05     203.000000  2.026998e+05      85.000000   \n",
       "max      2.373711e+06     272.000000  2.415841e+06     114.000000   \n",
       "\n",
       "            PROD_QTY      TOT_SALES      PACK_SIZE  \n",
       "count  264834.000000  264834.000000  264834.000000  \n",
       "mean        1.905813       7.299346     182.425512  \n",
       "std         0.343436       2.527241      64.325148  \n",
       "min         1.000000       1.500000      70.000000  \n",
       "25%         2.000000       5.400000     150.000000  \n",
       "50%         2.000000       7.400000     170.000000  \n",
       "75%         2.000000       9.200000     175.000000  \n",
       "max         5.000000      29.500000     380.000000  "
      ]
     },
     "execution_count": 4,
     "metadata": {},
     "output_type": "execute_result"
    }
   ],
   "source": [
    "df.describe()"
   ]
  },
  {
   "cell_type": "code",
   "execution_count": 5,
   "metadata": {},
   "outputs": [
    {
     "name": "stdout",
     "output_type": "stream",
     "text": [
      "<class 'pandas.core.frame.DataFrame'>\n",
      "RangeIndex: 264834 entries, 0 to 264833\n",
      "Data columns (total 12 columns):\n",
      " #   Column            Non-Null Count   Dtype  \n",
      "---  ------            --------------   -----  \n",
      " 0   LYLTY_CARD_NBR    264834 non-null  int64  \n",
      " 1   DATE              264834 non-null  object \n",
      " 2   STORE_NBR         264834 non-null  int64  \n",
      " 3   TXN_ID            264834 non-null  int64  \n",
      " 4   PROD_NBR          264834 non-null  int64  \n",
      " 5   PROD_NAME         264834 non-null  object \n",
      " 6   PROD_QTY          264834 non-null  int64  \n",
      " 7   TOT_SALES         264834 non-null  float64\n",
      " 8   PACK_SIZE         264834 non-null  int64  \n",
      " 9   BRAND             264834 non-null  object \n",
      " 10  LIFESTAGE         264834 non-null  object \n",
      " 11  PREMIUM_CUSTOMER  264834 non-null  object \n",
      "dtypes: float64(1), int64(6), object(5)\n",
      "memory usage: 24.2+ MB\n"
     ]
    }
   ],
   "source": [
    "df.info()"
   ]
  },
  {
   "cell_type": "code",
   "execution_count": 6,
   "metadata": {},
   "outputs": [
    {
     "data": {
      "text/plain": [
       "LYLTY_CARD_NBR      0.0\n",
       "DATE                0.0\n",
       "STORE_NBR           0.0\n",
       "TXN_ID              0.0\n",
       "PROD_NBR            0.0\n",
       "PROD_NAME           0.0\n",
       "PROD_QTY            0.0\n",
       "TOT_SALES           0.0\n",
       "PACK_SIZE           0.0\n",
       "BRAND               0.0\n",
       "LIFESTAGE           0.0\n",
       "PREMIUM_CUSTOMER    0.0\n",
       "dtype: float64"
      ]
     },
     "execution_count": 6,
     "metadata": {},
     "output_type": "execute_result"
    }
   ],
   "source": [
    "df.isnull().sum()/len(df)*100"
   ]
  },
  {
   "cell_type": "code",
   "execution_count": 7,
   "metadata": {},
   "outputs": [
    {
     "data": {
      "text/plain": [
       "(264834, 12)"
      ]
     },
     "execution_count": 7,
     "metadata": {},
     "output_type": "execute_result"
    }
   ],
   "source": [
    "df.shape"
   ]
  },
  {
   "cell_type": "code",
   "execution_count": 8,
   "metadata": {},
   "outputs": [
    {
     "data": {
      "text/plain": [
       "LYLTY_CARD_NBR       72636\n",
       "DATE                   364\n",
       "STORE_NBR              272\n",
       "TXN_ID              263125\n",
       "PROD_NBR               114\n",
       "PROD_NAME              114\n",
       "PROD_QTY                 5\n",
       "TOT_SALES              111\n",
       "PACK_SIZE               21\n",
       "BRAND                   21\n",
       "LIFESTAGE                7\n",
       "PREMIUM_CUSTOMER         3\n",
       "dtype: int64"
      ]
     },
     "execution_count": 8,
     "metadata": {},
     "output_type": "execute_result"
    }
   ],
   "source": [
    "df.nunique()"
   ]
  },
  {
   "cell_type": "code",
   "execution_count": 9,
   "metadata": {},
   "outputs": [],
   "source": [
    "# Converting into months\n",
    "\n",
    "df['month_year'] = pd.to_datetime(df['DATE']).dt.to_period('M')"
   ]
  },
  {
   "cell_type": "code",
   "execution_count": 10,
   "metadata": {},
   "outputs": [],
   "source": [
    "df['UPRICE'] = df['TOT_SALES'] / df['PROD_QTY']"
   ]
  },
  {
   "cell_type": "code",
   "execution_count": 11,
   "metadata": {},
   "outputs": [],
   "source": [
    "#pre trial observation\n",
    "#filter only stores with full 12 months observation\n",
    "sales_pc = df.groupby(['STORE_NBR','month_year']).agg({'PROD_QTY':'sum','TOT_SALES':'sum','TXN_ID':'count', 'LYLTY_CARD_NBR':'nunique', 'UPRICE':'mean'}).reset_index().sort_values('STORE_NBR')\n",
    "sales_pc['SALES_PC'] = sales_pc.TOT_SALES / sales_pc.TXN_ID\n",
    "sales_pc['QTY_PC'] = sales_pc.PROD_QTY / sales_pc.TXN_ID\n",
    "sales_pc['AVG_PP'] = sales_pc.TOT_SALES / sales_pc.PROD_QTY\n",
    "sales_pc['TxnPCust'] = sales_pc.TXN_ID / sales_pc.LYLTY_CARD_NBR\n",
    "sales_pc['ChsPTxn'] = sales_pc.PROD_QTY / sales_pc.LYLTY_CARD_NBR"
   ]
  },
  {
   "cell_type": "code",
   "execution_count": 12,
   "metadata": {},
   "outputs": [
    {
     "data": {
      "text/html": [
       "<div>\n",
       "<style scoped>\n",
       "    .dataframe tbody tr th:only-of-type {\n",
       "        vertical-align: middle;\n",
       "    }\n",
       "\n",
       "    .dataframe tbody tr th {\n",
       "        vertical-align: top;\n",
       "    }\n",
       "\n",
       "    .dataframe thead th {\n",
       "        text-align: right;\n",
       "    }\n",
       "</style>\n",
       "<table border=\"1\" class=\"dataframe\">\n",
       "  <thead>\n",
       "    <tr style=\"text-align: right;\">\n",
       "      <th></th>\n",
       "      <th>STORE_NBR</th>\n",
       "      <th>month_year</th>\n",
       "      <th>PROD_QTY</th>\n",
       "      <th>TOT_SALES</th>\n",
       "      <th>TXN_ID</th>\n",
       "      <th>LYLTY_CARD_NBR</th>\n",
       "      <th>UPRICE</th>\n",
       "      <th>SALES_PC</th>\n",
       "      <th>QTY_PC</th>\n",
       "      <th>AVG_PP</th>\n",
       "      <th>TxnPCust</th>\n",
       "      <th>ChsPTxn</th>\n",
       "    </tr>\n",
       "  </thead>\n",
       "  <tbody>\n",
       "    <tr>\n",
       "      <th>0</th>\n",
       "      <td>1</td>\n",
       "      <td>2018-07</td>\n",
       "      <td>62</td>\n",
       "      <td>206.90</td>\n",
       "      <td>52</td>\n",
       "      <td>49</td>\n",
       "      <td>3.384615</td>\n",
       "      <td>3.978846</td>\n",
       "      <td>1.192308</td>\n",
       "      <td>3.337097</td>\n",
       "      <td>1.061224</td>\n",
       "      <td>1.265306</td>\n",
       "    </tr>\n",
       "    <tr>\n",
       "      <th>11</th>\n",
       "      <td>1</td>\n",
       "      <td>2019-06</td>\n",
       "      <td>53</td>\n",
       "      <td>174.10</td>\n",
       "      <td>43</td>\n",
       "      <td>42</td>\n",
       "      <td>3.262791</td>\n",
       "      <td>4.048837</td>\n",
       "      <td>1.232558</td>\n",
       "      <td>3.284906</td>\n",
       "      <td>1.023810</td>\n",
       "      <td>1.261905</td>\n",
       "    </tr>\n",
       "    <tr>\n",
       "      <th>10</th>\n",
       "      <td>1</td>\n",
       "      <td>2019-05</td>\n",
       "      <td>66</td>\n",
       "      <td>221.40</td>\n",
       "      <td>51</td>\n",
       "      <td>46</td>\n",
       "      <td>3.434314</td>\n",
       "      <td>4.341176</td>\n",
       "      <td>1.294118</td>\n",
       "      <td>3.354545</td>\n",
       "      <td>1.108696</td>\n",
       "      <td>1.434783</td>\n",
       "    </tr>\n",
       "    <tr>\n",
       "      <th>9</th>\n",
       "      <td>1</td>\n",
       "      <td>2019-04</td>\n",
       "      <td>57</td>\n",
       "      <td>192.90</td>\n",
       "      <td>43</td>\n",
       "      <td>42</td>\n",
       "      <td>3.462791</td>\n",
       "      <td>4.486047</td>\n",
       "      <td>1.325581</td>\n",
       "      <td>3.384211</td>\n",
       "      <td>1.023810</td>\n",
       "      <td>1.357143</td>\n",
       "    </tr>\n",
       "    <tr>\n",
       "      <th>7</th>\n",
       "      <td>1</td>\n",
       "      <td>2019-02</td>\n",
       "      <td>65</td>\n",
       "      <td>225.40</td>\n",
       "      <td>55</td>\n",
       "      <td>52</td>\n",
       "      <td>3.507273</td>\n",
       "      <td>4.098182</td>\n",
       "      <td>1.181818</td>\n",
       "      <td>3.467692</td>\n",
       "      <td>1.057692</td>\n",
       "      <td>1.250000</td>\n",
       "    </tr>\n",
       "    <tr>\n",
       "      <th>...</th>\n",
       "      <td>...</td>\n",
       "      <td>...</td>\n",
       "      <td>...</td>\n",
       "      <td>...</td>\n",
       "      <td>...</td>\n",
       "      <td>...</td>\n",
       "      <td>...</td>\n",
       "      <td>...</td>\n",
       "      <td>...</td>\n",
       "      <td>...</td>\n",
       "      <td>...</td>\n",
       "      <td>...</td>\n",
       "    </tr>\n",
       "    <tr>\n",
       "      <th>3158</th>\n",
       "      <td>272</td>\n",
       "      <td>2018-08</td>\n",
       "      <td>85</td>\n",
       "      <td>372.85</td>\n",
       "      <td>48</td>\n",
       "      <td>44</td>\n",
       "      <td>4.346875</td>\n",
       "      <td>7.767708</td>\n",
       "      <td>1.770833</td>\n",
       "      <td>4.386471</td>\n",
       "      <td>1.090909</td>\n",
       "      <td>1.931818</td>\n",
       "    </tr>\n",
       "    <tr>\n",
       "      <th>3157</th>\n",
       "      <td>272</td>\n",
       "      <td>2018-07</td>\n",
       "      <td>98</td>\n",
       "      <td>433.10</td>\n",
       "      <td>52</td>\n",
       "      <td>48</td>\n",
       "      <td>4.419231</td>\n",
       "      <td>8.328846</td>\n",
       "      <td>1.884615</td>\n",
       "      <td>4.419388</td>\n",
       "      <td>1.083333</td>\n",
       "      <td>2.041667</td>\n",
       "    </tr>\n",
       "    <tr>\n",
       "      <th>3167</th>\n",
       "      <td>272</td>\n",
       "      <td>2019-05</td>\n",
       "      <td>71</td>\n",
       "      <td>314.60</td>\n",
       "      <td>40</td>\n",
       "      <td>34</td>\n",
       "      <td>4.437500</td>\n",
       "      <td>7.865000</td>\n",
       "      <td>1.775000</td>\n",
       "      <td>4.430986</td>\n",
       "      <td>1.176471</td>\n",
       "      <td>2.088235</td>\n",
       "    </tr>\n",
       "    <tr>\n",
       "      <th>3161</th>\n",
       "      <td>272</td>\n",
       "      <td>2018-11</td>\n",
       "      <td>87</td>\n",
       "      <td>376.20</td>\n",
       "      <td>45</td>\n",
       "      <td>41</td>\n",
       "      <td>4.308889</td>\n",
       "      <td>8.360000</td>\n",
       "      <td>1.933333</td>\n",
       "      <td>4.324138</td>\n",
       "      <td>1.097561</td>\n",
       "      <td>2.121951</td>\n",
       "    </tr>\n",
       "    <tr>\n",
       "      <th>3168</th>\n",
       "      <td>272</td>\n",
       "      <td>2019-06</td>\n",
       "      <td>70</td>\n",
       "      <td>312.10</td>\n",
       "      <td>37</td>\n",
       "      <td>34</td>\n",
       "      <td>4.424324</td>\n",
       "      <td>8.435135</td>\n",
       "      <td>1.891892</td>\n",
       "      <td>4.458571</td>\n",
       "      <td>1.088235</td>\n",
       "      <td>2.058824</td>\n",
       "    </tr>\n",
       "  </tbody>\n",
       "</table>\n",
       "<p>3169 rows × 12 columns</p>\n",
       "</div>"
      ],
      "text/plain": [
       "      STORE_NBR month_year  PROD_QTY  TOT_SALES  TXN_ID  LYLTY_CARD_NBR  \\\n",
       "0             1    2018-07        62     206.90      52              49   \n",
       "11            1    2019-06        53     174.10      43              42   \n",
       "10            1    2019-05        66     221.40      51              46   \n",
       "9             1    2019-04        57     192.90      43              42   \n",
       "7             1    2019-02        65     225.40      55              52   \n",
       "...         ...        ...       ...        ...     ...             ...   \n",
       "3158        272    2018-08        85     372.85      48              44   \n",
       "3157        272    2018-07        98     433.10      52              48   \n",
       "3167        272    2019-05        71     314.60      40              34   \n",
       "3161        272    2018-11        87     376.20      45              41   \n",
       "3168        272    2019-06        70     312.10      37              34   \n",
       "\n",
       "        UPRICE  SALES_PC    QTY_PC    AVG_PP  TxnPCust   ChsPTxn  \n",
       "0     3.384615  3.978846  1.192308  3.337097  1.061224  1.265306  \n",
       "11    3.262791  4.048837  1.232558  3.284906  1.023810  1.261905  \n",
       "10    3.434314  4.341176  1.294118  3.354545  1.108696  1.434783  \n",
       "9     3.462791  4.486047  1.325581  3.384211  1.023810  1.357143  \n",
       "7     3.507273  4.098182  1.181818  3.467692  1.057692  1.250000  \n",
       "...        ...       ...       ...       ...       ...       ...  \n",
       "3158  4.346875  7.767708  1.770833  4.386471  1.090909  1.931818  \n",
       "3157  4.419231  8.328846  1.884615  4.419388  1.083333  2.041667  \n",
       "3167  4.437500  7.865000  1.775000  4.430986  1.176471  2.088235  \n",
       "3161  4.308889  8.360000  1.933333  4.324138  1.097561  2.121951  \n",
       "3168  4.424324  8.435135  1.891892  4.458571  1.088235  2.058824  \n",
       "\n",
       "[3169 rows x 12 columns]"
      ]
     },
     "execution_count": 12,
     "metadata": {},
     "output_type": "execute_result"
    }
   ],
   "source": [
    "sales_pc"
   ]
  },
  {
   "cell_type": "code",
   "execution_count": 13,
   "metadata": {},
   "outputs": [
    {
     "data": {
      "text/plain": [
       "STORE_NBR         0\n",
       "month_year        0\n",
       "PROD_QTY          0\n",
       "TOT_SALES         0\n",
       "TXN_ID            0\n",
       "LYLTY_CARD_NBR    0\n",
       "UPRICE            0\n",
       "SALES_PC          0\n",
       "QTY_PC            0\n",
       "AVG_PP            0\n",
       "TxnPCust          0\n",
       "ChsPTxn           0\n",
       "dtype: int64"
      ]
     },
     "execution_count": 13,
     "metadata": {},
     "output_type": "execute_result"
    }
   ],
   "source": [
    "sales_pc.isnull().sum()"
   ]
  },
  {
   "cell_type": "code",
   "execution_count": 14,
   "metadata": {},
   "outputs": [
    {
     "data": {
      "text/plain": [
       "<PandasArray>\n",
       "[  1,   2,   3,   4,   5,   6,   7,   8,   9,  10,\n",
       " ...\n",
       " 263, 264, 265, 266, 267, 268, 269, 270, 271, 272]\n",
       "Length: 260, dtype: int64"
      ]
     },
     "execution_count": 14,
     "metadata": {},
     "output_type": "execute_result"
    }
   ],
   "source": [
    "# There are only 260 to 272 stores register values for all the 12 months\n",
    "\n",
    "observations_per_store = sales_pc.groupby('STORE_NBR', as_index = False).month_year.count()\n",
    "store_nbr = observations_per_store[ observations_per_store.month_year == 12].STORE_NBR.array\n",
    "store_nbr"
   ]
  },
  {
   "cell_type": "code",
   "execution_count": 15,
   "metadata": {},
   "outputs": [],
   "source": [
    "#sales_pc = sales_pc[sales_pc.STORE_NBR.isin(store_nbr)]"
   ]
  },
  {
   "cell_type": "code",
   "execution_count": 16,
   "metadata": {},
   "outputs": [],
   "source": [
    "preTrialMeasures =  sales_pc[sales_pc.month_year < '2019-02']"
   ]
  },
  {
   "cell_type": "code",
   "execution_count": 17,
   "metadata": {},
   "outputs": [],
   "source": [
    "#trial_stores_number = [77, 86, 88]\n",
    "#comparison_stores_number = sales_pc.STORE_NBR.unique().tolist()"
   ]
  },
  {
   "cell_type": "code",
   "execution_count": 18,
   "metadata": {},
   "outputs": [],
   "source": [
    "def calcCorrTable(metricCol, storeComparison, inputTable = preTrialMeasures):\n",
    "    \"\"\"Calculate correlation for a measure, looping through each control store.\n",
    "    Args:\n",
    "        metricCol (str): Name of column containing store's metric to perform correlation test on.\n",
    "        storeComparison (int): Trial store's number.\n",
    "        inputTable (dataframe):  Metric table with potential comparison stores.\n",
    "        \n",
    "    Returns:\n",
    "        DataFrame: Monthly correlation table between Trial and each Control stores.\n",
    "    \"\"\"\n",
    "    control_store_nbrs = inputTable[~inputTable[\"STORE_NBR\"].isin([77, 86, 88])][\"STORE_NBR\"].unique()\n",
    "    corrs = pd.DataFrame(columns = [\"month_year\", \"Trial_Str\", \"Ctrl_Str\", \"Corr_Score\"])\n",
    "    trial_store = inputTable[inputTable[\"STORE_NBR\"] == storeComparison][metricCol].reset_index()\n",
    "    for control in control_store_nbrs:\n",
    "        concat_df = pd.DataFrame(columns = [\"month_year\", \"Trial_Str\", \"Ctrl_Str\", \"Corr_Score\"])\n",
    "        control_store = inputTable[inputTable[\"STORE_NBR\"] == control][metricCol].reset_index()\n",
    "        concat_df[\"Corr_Score\"] = trial_store.corrwith(control_store, axis=1)\n",
    "        concat_df[\"Trial_Str\"] = storeComparison\n",
    "        concat_df[\"Ctrl_Str\"] = control\n",
    "        concat_df[\"month_year\"] = list(inputTable[inputTable[\"STORE_NBR\"] == storeComparison][\"month_year\"])\n",
    "        corrs = pd.concat([corrs, concat_df])\n",
    "    return corrs"
   ]
  },
  {
   "cell_type": "code",
   "execution_count": 19,
   "metadata": {},
   "outputs": [
    {
     "data": {
      "text/html": [
       "<div>\n",
       "<style scoped>\n",
       "    .dataframe tbody tr th:only-of-type {\n",
       "        vertical-align: middle;\n",
       "    }\n",
       "\n",
       "    .dataframe tbody tr th {\n",
       "        vertical-align: top;\n",
       "    }\n",
       "\n",
       "    .dataframe thead th {\n",
       "        text-align: right;\n",
       "    }\n",
       "</style>\n",
       "<table border=\"1\" class=\"dataframe\">\n",
       "  <thead>\n",
       "    <tr style=\"text-align: right;\">\n",
       "      <th></th>\n",
       "      <th>month_year</th>\n",
       "      <th>Trial_Str</th>\n",
       "      <th>Ctrl_Str</th>\n",
       "      <th>Corr_Score</th>\n",
       "    </tr>\n",
       "  </thead>\n",
       "  <tbody>\n",
       "    <tr>\n",
       "      <th>0</th>\n",
       "      <td>2019-01</td>\n",
       "      <td>77</td>\n",
       "      <td>1</td>\n",
       "      <td>-0.036815</td>\n",
       "    </tr>\n",
       "    <tr>\n",
       "      <th>1</th>\n",
       "      <td>2018-12</td>\n",
       "      <td>77</td>\n",
       "      <td>1</td>\n",
       "      <td>0.073359</td>\n",
       "    </tr>\n",
       "    <tr>\n",
       "      <th>2</th>\n",
       "      <td>2018-11</td>\n",
       "      <td>77</td>\n",
       "      <td>1</td>\n",
       "      <td>0.030024</td>\n",
       "    </tr>\n",
       "    <tr>\n",
       "      <th>3</th>\n",
       "      <td>2018-10</td>\n",
       "      <td>77</td>\n",
       "      <td>1</td>\n",
       "      <td>-0.020045</td>\n",
       "    </tr>\n",
       "    <tr>\n",
       "      <th>4</th>\n",
       "      <td>2018-09</td>\n",
       "      <td>77</td>\n",
       "      <td>1</td>\n",
       "      <td>0.002389</td>\n",
       "    </tr>\n",
       "    <tr>\n",
       "      <th>5</th>\n",
       "      <td>2018-08</td>\n",
       "      <td>77</td>\n",
       "      <td>1</td>\n",
       "      <td>0.027276</td>\n",
       "    </tr>\n",
       "    <tr>\n",
       "      <th>6</th>\n",
       "      <td>2018-07</td>\n",
       "      <td>77</td>\n",
       "      <td>1</td>\n",
       "      <td>0.099242</td>\n",
       "    </tr>\n",
       "    <tr>\n",
       "      <th>0</th>\n",
       "      <td>2019-01</td>\n",
       "      <td>77</td>\n",
       "      <td>2</td>\n",
       "      <td>0.067758</td>\n",
       "    </tr>\n",
       "  </tbody>\n",
       "</table>\n",
       "</div>"
      ],
      "text/plain": [
       "  month_year Trial_Str Ctrl_Str  Corr_Score\n",
       "0    2019-01        77        1   -0.036815\n",
       "1    2018-12        77        1    0.073359\n",
       "2    2018-11        77        1    0.030024\n",
       "3    2018-10        77        1   -0.020045\n",
       "4    2018-09        77        1    0.002389\n",
       "5    2018-08        77        1    0.027276\n",
       "6    2018-07        77        1    0.099242\n",
       "0    2019-01        77        2    0.067758"
      ]
     },
     "execution_count": 19,
     "metadata": {},
     "output_type": "execute_result"
    }
   ],
   "source": [
    "corr_table = pd.DataFrame()\n",
    "for trial_num in [77, 86, 88]:\n",
    "    corr_table = pd.concat([corr_table, calcCorrTable([\"TOT_SALES\", \"LYLTY_CARD_NBR\", \"TxnPCust\", \"ChsPTxn\", \"AVG_PP\"], trial_num)])\n",
    "    \n",
    "corr_table.head(8)"
   ]
  },
  {
   "cell_type": "code",
   "execution_count": 20,
   "metadata": {},
   "outputs": [],
   "source": [
    "def calculateMagnitudeDistance(metricCol, storeComparison, inputTable = preTrialMeasures):\n",
    "    \"\"\"Calculate standardised magnitude distance for a measure, looping through each control store.\n",
    "    Args:\n",
    "        metricCol (str): Name of column containing store's metric to perform distance calculation on.\n",
    "        storeComparison (int): Trial store's number.\n",
    "        inputTable (dataframe):  Metric table with potential comparison stores.\n",
    "        \n",
    "    Returns:\n",
    "        DataFrame: Monthly magnitude-distance table between Trial and each Control stores.\n",
    "    \"\"\"\n",
    "    control_store_nbrs = inputTable[~inputTable[\"STORE_NBR\"].isin([77, 86, 88])][\"STORE_NBR\"].unique()\n",
    "    dists = pd.DataFrame()\n",
    "    trial_store = inputTable[inputTable[\"STORE_NBR\"] == storeComparison][metricCol]\n",
    "    for control in control_store_nbrs:\n",
    "        concat_df  = abs(inputTable[inputTable[\"STORE_NBR\"] == storeComparison].reset_index()[metricCol] - inputTable[inputTable[\"STORE_NBR\"] == control].reset_index()[metricCol])\n",
    "        concat_df[\"month_year\"] = list(inputTable[inputTable[\"STORE_NBR\"] == storeComparison][\"month_year\"])\n",
    "        concat_df[\"Trial_Str\"] = storeComparison\n",
    "        concat_df[\"Ctrl_Str\"] = control\n",
    "        dists = pd.concat([dists, concat_df])\n",
    "    for col in metricCol:\n",
    "        dists[col] = 1 - ((dists[col] - dists[col].min()) / (dists[col].max() - dists[col].min()))\n",
    "    dists[\"magnitude\"] = dists[metricCol].mean(axis=1)\n",
    "    return dists"
   ]
  },
  {
   "cell_type": "code",
   "execution_count": 21,
   "metadata": {},
   "outputs": [
    {
     "data": {
      "text/html": [
       "<div>\n",
       "<style scoped>\n",
       "    .dataframe tbody tr th:only-of-type {\n",
       "        vertical-align: middle;\n",
       "    }\n",
       "\n",
       "    .dataframe tbody tr th {\n",
       "        vertical-align: top;\n",
       "    }\n",
       "\n",
       "    .dataframe thead th {\n",
       "        text-align: right;\n",
       "    }\n",
       "</style>\n",
       "<table border=\"1\" class=\"dataframe\">\n",
       "  <thead>\n",
       "    <tr style=\"text-align: right;\">\n",
       "      <th></th>\n",
       "      <th>TOT_SALES</th>\n",
       "      <th>LYLTY_CARD_NBR</th>\n",
       "      <th>TxnPCust</th>\n",
       "      <th>ChsPTxn</th>\n",
       "      <th>AVG_PP</th>\n",
       "      <th>month_year</th>\n",
       "      <th>Trial_Str</th>\n",
       "      <th>Ctrl_Str</th>\n",
       "      <th>magnitude</th>\n",
       "    </tr>\n",
       "  </thead>\n",
       "  <tbody>\n",
       "    <tr>\n",
       "      <th>0</th>\n",
       "      <td>0.998707</td>\n",
       "      <td>0.865385</td>\n",
       "      <td>0.875630</td>\n",
       "      <td>0.596946</td>\n",
       "      <td>0.886094</td>\n",
       "      <td>2019-01</td>\n",
       "      <td>77</td>\n",
       "      <td>1</td>\n",
       "      <td>0.844552</td>\n",
       "    </tr>\n",
       "    <tr>\n",
       "      <th>1</th>\n",
       "      <td>0.919661</td>\n",
       "      <td>0.894231</td>\n",
       "      <td>0.914106</td>\n",
       "      <td>0.751279</td>\n",
       "      <td>0.984546</td>\n",
       "      <td>2018-12</td>\n",
       "      <td>77</td>\n",
       "      <td>1</td>\n",
       "      <td>0.892765</td>\n",
       "    </tr>\n",
       "    <tr>\n",
       "      <th>2</th>\n",
       "      <td>0.962633</td>\n",
       "      <td>0.951923</td>\n",
       "      <td>0.879450</td>\n",
       "      <td>0.730985</td>\n",
       "      <td>0.832758</td>\n",
       "      <td>2018-11</td>\n",
       "      <td>77</td>\n",
       "      <td>1</td>\n",
       "      <td>0.871550</td>\n",
       "    </tr>\n",
       "    <tr>\n",
       "      <th>3</th>\n",
       "      <td>0.988718</td>\n",
       "      <td>0.932692</td>\n",
       "      <td>0.989922</td>\n",
       "      <td>0.940599</td>\n",
       "      <td>0.590725</td>\n",
       "      <td>2018-10</td>\n",
       "      <td>77</td>\n",
       "      <td>1</td>\n",
       "      <td>0.888531</td>\n",
       "    </tr>\n",
       "    <tr>\n",
       "      <th>4</th>\n",
       "      <td>0.961986</td>\n",
       "      <td>0.836538</td>\n",
       "      <td>0.992433</td>\n",
       "      <td>0.730669</td>\n",
       "      <td>0.703261</td>\n",
       "      <td>2018-09</td>\n",
       "      <td>77</td>\n",
       "      <td>1</td>\n",
       "      <td>0.844977</td>\n",
       "    </tr>\n",
       "    <tr>\n",
       "      <th>...</th>\n",
       "      <td>...</td>\n",
       "      <td>...</td>\n",
       "      <td>...</td>\n",
       "      <td>...</td>\n",
       "      <td>...</td>\n",
       "      <td>...</td>\n",
       "      <td>...</td>\n",
       "      <td>...</td>\n",
       "      <td>...</td>\n",
       "    </tr>\n",
       "    <tr>\n",
       "      <th>2</th>\n",
       "      <td>0.236040</td>\n",
       "      <td>0.246154</td>\n",
       "      <td>0.714066</td>\n",
       "      <td>0.874684</td>\n",
       "      <td>0.955863</td>\n",
       "      <td>2018-11</td>\n",
       "      <td>88</td>\n",
       "      <td>272</td>\n",
       "      <td>0.605361</td>\n",
       "    </tr>\n",
       "    <tr>\n",
       "      <th>3</th>\n",
       "      <td>0.346797</td>\n",
       "      <td>0.392308</td>\n",
       "      <td>0.566177</td>\n",
       "      <td>0.796632</td>\n",
       "      <td>0.972626</td>\n",
       "      <td>2018-10</td>\n",
       "      <td>88</td>\n",
       "      <td>272</td>\n",
       "      <td>0.614908</td>\n",
       "    </tr>\n",
       "    <tr>\n",
       "      <th>4</th>\n",
       "      <td>0.255846</td>\n",
       "      <td>0.384615</td>\n",
       "      <td>0.338353</td>\n",
       "      <td>0.596778</td>\n",
       "      <td>0.965284</td>\n",
       "      <td>2018-09</td>\n",
       "      <td>88</td>\n",
       "      <td>272</td>\n",
       "      <td>0.508175</td>\n",
       "    </tr>\n",
       "    <tr>\n",
       "      <th>5</th>\n",
       "      <td>0.368835</td>\n",
       "      <td>0.361538</td>\n",
       "      <td>0.522682</td>\n",
       "      <td>0.827092</td>\n",
       "      <td>0.980249</td>\n",
       "      <td>2018-08</td>\n",
       "      <td>88</td>\n",
       "      <td>272</td>\n",
       "      <td>0.612080</td>\n",
       "    </tr>\n",
       "    <tr>\n",
       "      <th>6</th>\n",
       "      <td>0.338294</td>\n",
       "      <td>0.323077</td>\n",
       "      <td>0.694034</td>\n",
       "      <td>0.840583</td>\n",
       "      <td>0.983135</td>\n",
       "      <td>2018-07</td>\n",
       "      <td>88</td>\n",
       "      <td>272</td>\n",
       "      <td>0.635825</td>\n",
       "    </tr>\n",
       "  </tbody>\n",
       "</table>\n",
       "<p>5628 rows × 9 columns</p>\n",
       "</div>"
      ],
      "text/plain": [
       "    TOT_SALES  LYLTY_CARD_NBR  TxnPCust   ChsPTxn    AVG_PP month_year  \\\n",
       "0    0.998707        0.865385  0.875630  0.596946  0.886094    2019-01   \n",
       "1    0.919661        0.894231  0.914106  0.751279  0.984546    2018-12   \n",
       "2    0.962633        0.951923  0.879450  0.730985  0.832758    2018-11   \n",
       "3    0.988718        0.932692  0.989922  0.940599  0.590725    2018-10   \n",
       "4    0.961986        0.836538  0.992433  0.730669  0.703261    2018-09   \n",
       "..        ...             ...       ...       ...       ...        ...   \n",
       "2    0.236040        0.246154  0.714066  0.874684  0.955863    2018-11   \n",
       "3    0.346797        0.392308  0.566177  0.796632  0.972626    2018-10   \n",
       "4    0.255846        0.384615  0.338353  0.596778  0.965284    2018-09   \n",
       "5    0.368835        0.361538  0.522682  0.827092  0.980249    2018-08   \n",
       "6    0.338294        0.323077  0.694034  0.840583  0.983135    2018-07   \n",
       "\n",
       "    Trial_Str  Ctrl_Str  magnitude  \n",
       "0          77         1   0.844552  \n",
       "1          77         1   0.892765  \n",
       "2          77         1   0.871550  \n",
       "3          77         1   0.888531  \n",
       "4          77         1   0.844977  \n",
       "..        ...       ...        ...  \n",
       "2          88       272   0.605361  \n",
       "3          88       272   0.614908  \n",
       "4          88       272   0.508175  \n",
       "5          88       272   0.612080  \n",
       "6          88       272   0.635825  \n",
       "\n",
       "[5628 rows x 9 columns]"
      ]
     },
     "execution_count": 21,
     "metadata": {},
     "output_type": "execute_result"
    }
   ],
   "source": [
    "dist_table = pd.DataFrame()\n",
    "for trial_num in [77, 86, 88]:\n",
    "    dist_table = pd.concat([dist_table, calculateMagnitudeDistance([\"TOT_SALES\", \"LYLTY_CARD_NBR\", \"TxnPCust\", \"ChsPTxn\", \"AVG_PP\"], trial_num)])\n",
    "    \n",
    "dist_table.head()\n",
    "dist_table"
   ]
  },
  {
   "cell_type": "code",
   "execution_count": 22,
   "metadata": {},
   "outputs": [],
   "source": [
    "def combine_corr_dist(metricCol, storeComparison, inputTable = preTrialMeasures):\n",
    "    corrs = calcCorrTable(metricCol, storeComparison, inputTable)\n",
    "    dists = calculateMagnitudeDistance(metricCol, storeComparison, inputTable)\n",
    "    dists = dists.drop(metricCol, axis=1)\n",
    "    combine = pd.merge(corrs, dists, on=[\"month_year\", \"Trial_Str\", \"Ctrl_Str\"])\n",
    "    return combine"
   ]
  },
  {
   "cell_type": "code",
   "execution_count": 23,
   "metadata": {},
   "outputs": [],
   "source": [
    "compare_metrics_table1 = pd.DataFrame()\n",
    "for trial_num in [77, 86, 88]:\n",
    "    compare_metrics_table1 = pd.concat([compare_metrics_table1, combine_corr_dist([\"TOT_SALES\"], trial_num)])"
   ]
  },
  {
   "cell_type": "code",
   "execution_count": 24,
   "metadata": {},
   "outputs": [],
   "source": [
    "corr_weight = 0.5\n",
    "dist_weight = 1 - corr_weight"
   ]
  },
  {
   "cell_type": "code",
   "execution_count": 25,
   "metadata": {},
   "outputs": [
    {
     "name": "stdout",
     "output_type": "stream",
     "text": [
      "     Trial_Str  Ctrl_Str  Corr_Score  magnitude  CompScore\n",
      "228         77       233         1.0   0.986973   0.993486\n",
      "52          77        53         1.0   0.984150   0.992075\n",
      "250         77       255         1.0   0.983729   0.991864\n",
      "45          77        46         1.0   0.982682   0.991341\n",
      "215         77       220         1.0   0.979520   0.989760 \n",
      "\n",
      "     Trial_Str  Ctrl_Str  Corr_Score  magnitude  CompScore\n",
      "372         86       109         1.0   0.966375   0.983188\n",
      "488         86       225         1.0   0.960068   0.980034\n",
      "485         86       222         1.0   0.946345   0.973172\n",
      "470         86       207         1.0   0.945342   0.972671\n",
      "360         86        97         1.0   0.943419   0.971710 \n",
      "\n",
      "     Trial_Str  Ctrl_Str  Corr_Score  magnitude  CompScore\n",
      "575         88        40         1.0   0.940881   0.970441\n",
      "561         88        26         1.0   0.906847   0.953424\n",
      "539         88         4         1.0   0.906260   0.953130\n",
      "607         88        72         1.0   0.903800   0.951900\n",
      "593         88        58         1.0   0.886333   0.943166 \n",
      "\n"
     ]
    }
   ],
   "source": [
    "#Top 5 highest Composite Score for each Trial Store based on TOT_SALES\n",
    "\n",
    "grouped_comparison_table1 = compare_metrics_table1.groupby([\"Trial_Str\", \"Ctrl_Str\"]).mean().reset_index()\n",
    "grouped_comparison_table1[\"CompScore\"] = (corr_weight * grouped_comparison_table1[\"Corr_Score\"]) + (dist_weight * grouped_comparison_table1[\"magnitude\"])\n",
    "for trial_num in compare_metrics_table1[\"Trial_Str\"].unique():\n",
    "    print(grouped_comparison_table1[grouped_comparison_table1[\"Trial_Str\"] == trial_num].sort_values(ascending=False, by=\"CompScore\").head(), '\\n')"
   ]
  },
  {
   "cell_type": "code",
   "execution_count": 26,
   "metadata": {},
   "outputs": [],
   "source": [
    "compare_metrics_table2 = pd.DataFrame()\n",
    "for trial_num in [77, 86, 88]:\n",
    "    compare_metrics_table2 = pd.concat([compare_metrics_table2, combine_corr_dist([\"LYLTY_CARD_NBR\"], trial_num)])"
   ]
  },
  {
   "cell_type": "code",
   "execution_count": 27,
   "metadata": {},
   "outputs": [
    {
     "name": "stdout",
     "output_type": "stream",
     "text": [
      "     Trial_Str  Ctrl_Str  Corr_Score  magnitude  CompScore\n",
      "228         77       233         1.0   0.986973   0.993486\n",
      "52          77        53         1.0   0.984150   0.992075\n",
      "250         77       255         1.0   0.983729   0.991864\n",
      "45          77        46         1.0   0.982682   0.991341\n",
      "215         77       220         1.0   0.979520   0.989760 \n",
      "\n",
      "     Trial_Str  Ctrl_Str  Corr_Score  magnitude  CompScore\n",
      "372         86       109         1.0   0.966375   0.983188\n",
      "488         86       225         1.0   0.960068   0.980034\n",
      "485         86       222         1.0   0.946345   0.973172\n",
      "470         86       207         1.0   0.945342   0.972671\n",
      "360         86        97         1.0   0.943419   0.971710 \n",
      "\n",
      "     Trial_Str  Ctrl_Str  Corr_Score  magnitude  CompScore\n",
      "575         88        40         1.0   0.940881   0.970441\n",
      "561         88        26         1.0   0.906847   0.953424\n",
      "539         88         4         1.0   0.906260   0.953130\n",
      "607         88        72         1.0   0.903800   0.951900\n",
      "593         88        58         1.0   0.886333   0.943166 \n",
      "\n"
     ]
    }
   ],
   "source": [
    "#Top 5 highest Composite Score for each Trial Store based on No of Customers\n",
    "\n",
    "grouped_comparison_table2 = compare_metrics_table1.groupby([\"Trial_Str\", \"Ctrl_Str\"]).mean().reset_index()\n",
    "grouped_comparison_table2[\"CompScore\"] = (corr_weight * grouped_comparison_table2[\"Corr_Score\"]) + (dist_weight * grouped_comparison_table2[\"magnitude\"])\n",
    "for trial_num in compare_metrics_table2[\"Trial_Str\"].unique():\n",
    "    print(grouped_comparison_table2[grouped_comparison_table2[\"Trial_Str\"] == trial_num].sort_values(ascending=False, by=\"CompScore\").head(), '\\n')"
   ]
  },
  {
   "cell_type": "code",
   "execution_count": 31,
   "metadata": {},
   "outputs": [
    {
     "name": "stdout",
     "output_type": "stream",
     "text": [
      "Trial_Str  Ctrl_Str\n",
      "77         233         0.993486\n",
      "           53          0.992075\n",
      "           255         0.991864\n",
      "dtype: float64 \n",
      "\n",
      "Trial_Str  Ctrl_Str\n",
      "86         109         0.983188\n",
      "           225         0.980034\n",
      "           222         0.973172\n",
      "dtype: float64 \n",
      "\n",
      "Trial_Str  Ctrl_Str\n",
      "88         40          0.970441\n",
      "           26          0.953424\n",
      "           4           0.953130\n",
      "dtype: float64 \n",
      "\n"
     ]
    }
   ],
   "source": [
    "for trial_num in compare_metrics_table2[\"Trial_Str\"].unique():\n",
    "    a = grouped_comparison_table1[grouped_comparison_table1[\"Trial_Str\"] == trial_num].sort_values(ascending=False, by=\"CompScore\").set_index([\"Trial_Str\", \"Ctrl_Str\"])[\"CompScore\"]\n",
    "    b = grouped_comparison_table2[grouped_comparison_table2[\"Trial_Str\"] == trial_num].sort_values(ascending=False, by=\"CompScore\").set_index([\"Trial_Str\", \"Ctrl_Str\"])[\"CompScore\"]\n",
    "    print((pd.concat([a,b], axis=1).sum(axis=1)/2).sort_values(ascending=False).head(3), '\\n')"
   ]
  },
  {
   "cell_type": "markdown",
   "metadata": {},
   "source": [
    "#Top 3 similarity based on TOT_SALES:\n",
    "\n",
    "Trial store 77: Store 233, 255, 188\n",
    "Trial store 86: Store 109, 155, 222\n",
    "Trial store 88: Store 40, 26, 72\n",
    "\n",
    "Top 3 similartiy based on nCustomers:\n",
    "\n",
    "Trial store 77: Store 233, 41, 111\n",
    "Trial store 86: Store 155, 225, 109\n",
    "Trial store 88: Store 237, 203, 40\n",
    "\n",
    "Based on highest average of both features combined:\n",
    "\n",
    "Trial store 77: Store 233\n",
    "Trial store 86: Store 155\n",
    "Trial store 88: Store 40"
   ]
  },
  {
   "cell_type": "code",
   "execution_count": 41,
   "metadata": {},
   "outputs": [
    {
     "name": "stdout",
     "output_type": "stream",
     "text": [
      "<class 'pandas.core.frame.DataFrame'>\n",
      "Int64Index: 1848 entries, 0 to 3161\n",
      "Data columns (total 12 columns):\n",
      " #   Column          Non-Null Count  Dtype  \n",
      "---  ------          --------------  -----  \n",
      " 0   STORE_NBR       1848 non-null   int64  \n",
      " 1   month_year      1848 non-null   object \n",
      " 2   PROD_QTY        1848 non-null   int64  \n",
      " 3   TOT_SALES       1848 non-null   float64\n",
      " 4   TXN_ID          1848 non-null   int64  \n",
      " 5   LYLTY_CARD_NBR  1848 non-null   int64  \n",
      " 6   UPRICE          1848 non-null   float64\n",
      " 7   SALES_PC        1848 non-null   float64\n",
      " 8   QTY_PC          1848 non-null   float64\n",
      " 9   AVG_PP          1848 non-null   float64\n",
      " 10  TxnPCust        1848 non-null   float64\n",
      " 11  ChsPTxn         1848 non-null   float64\n",
      "dtypes: float64(7), int64(4), object(1)\n",
      "memory usage: 187.7+ KB\n"
     ]
    }
   ],
   "source": [
    "preTrialMeasures.month_year = preTrialMeasures.month_year.astype(str)\n",
    "preTrialMeasures.info()"
   ]
  },
  {
   "cell_type": "markdown",
   "metadata": {},
   "source": [
    "Next we'll compare the performance of Trial stores to Control stores during the trial period. To ensure their performance is comparable during Trial period, we need to scale (multiply to ratio of trial / control) all of Control stores' performance to Trial store's performance during pre-trial. Starting with TOT_SALES."
   ]
  },
  {
   "cell_type": "code",
   "execution_count": 42,
   "metadata": {},
   "outputs": [
    {
     "data": {
      "text/plain": [
       "<matplotlib.legend.Legend at 0x7f98d87a6790>"
      ]
     },
     "execution_count": 42,
     "metadata": {},
     "output_type": "execute_result"
    },
    {
     "data": {
      "image/png": "[encoded data removed]",
      "text/plain": [
       "<Figure size 432x288 with 1 Axes>"
      ]
     },
     "metadata": {
      "needs_background": "light"
     },
     "output_type": "display_data"
    }
   ],
   "source": [
    "preTrialMeasures_store77 = preTrialMeasures[ preTrialMeasures.STORE_NBR == 77]\n",
    "preTrialMeasures_store233 = preTrialMeasures[ preTrialMeasures.STORE_NBR == 233]\n",
    "preTrialMeasures_other = preTrialMeasures[ preTrialMeasures.STORE_NBR != 77]\n",
    "\n",
    "ax = plt.subplot()\n",
    "sns.lineplot(x = 'month_year', y = 'SALES_PC' , data = preTrialMeasures_store77, ax = ax)\n",
    "sns.lineplot(x = 'month_year', y = 'SALES_PC' , data = preTrialMeasures_store233, ax = ax)\n",
    "sns.lineplot(x = 'month_year', y = 'SALES_PC' , data = preTrialMeasures_other, estimator= np.mean,ax = ax)\n",
    "ax.set_title('Total sales during pretrial period ')\n",
    "ax.set_xlabel('Time')\n",
    "ax.set_ylabel('Total Sales')\n",
    "ax.legend(['store 77', 'comparison store', 'other stores'])"
   ]
  },
  {
   "cell_type": "code",
   "execution_count": 43,
   "metadata": {},
   "outputs": [
    {
     "data": {
      "text/plain": [
       "<matplotlib.legend.Legend at 0x7f98d95ef190>"
      ]
     },
     "execution_count": 43,
     "metadata": {},
     "output_type": "execute_result"
    },
    {
     "data": {
      "image/png": "[encoded data removed]",
      "text/plain": [
       "<Figure size 432x288 with 1 Axes>"
      ]
     },
     "metadata": {
      "needs_background": "light"
     },
     "output_type": "display_data"
    }
   ],
   "source": [
    "preTrialMeasures_store77 = preTrialMeasures[ preTrialMeasures.STORE_NBR == 77]\n",
    "preTrialMeasures_store233 = preTrialMeasures[ preTrialMeasures.STORE_NBR == 233]\n",
    "preTrialMeasures_other = preTrialMeasures[ preTrialMeasures.STORE_NBR != 77]\n",
    "\n",
    "ax = plt.subplot()\n",
    "sns.lineplot(x = 'month_year', y = 'TxnPCust' , data = preTrialMeasures_store77, ax = ax)\n",
    "sns.lineplot(x = 'month_year', y = 'TxnPCust' , data = preTrialMeasures_store233, ax = ax)\n",
    "sns.lineplot(x = 'month_year', y = 'TxnPCust' , data = preTrialMeasures_other, estimator= np.mean, ax = ax)\n",
    "ax.set_title('Total number of customers during pretrial period')\n",
    "ax.set_xlabel('Time')\n",
    "ax.set_ylabel('Number of customers')\n",
    "ax.legend(['store 77', 'comparison store', 'other stores'])"
   ]
  },
  {
   "cell_type": "code",
   "execution_count": 44,
   "metadata": {},
   "outputs": [
    {
     "data": {
      "text/plain": [
       "<matplotlib.legend.Legend at 0x7f98b98279d0>"
      ]
     },
     "execution_count": 44,
     "metadata": {},
     "output_type": "execute_result"
    },
    {
     "data": {
      "image/png": "[encoded data removed]",
      "text/plain": [
       "<Figure size 432x288 with 1 Axes>"
      ]
     },
     "metadata": {
      "needs_background": "light"
     },
     "output_type": "display_data"
    }
   ],
   "source": [
    "preTrialMeasures_store77 = preTrialMeasures[ preTrialMeasures.STORE_NBR == 77]\n",
    "preTrialMeasures_store233 = preTrialMeasures[ preTrialMeasures.STORE_NBR == 233]\n",
    "preTrialMeasures_other = preTrialMeasures[ preTrialMeasures.STORE_NBR != 77]\n",
    "\n",
    "ax = plt.subplot()\n",
    "sns.lineplot(x = 'month_year', y = 'ChsPTxn' , data = preTrialMeasures_store77, ax = ax)\n",
    "sns.lineplot(x = 'month_year', y = 'ChsPTxn' , data = preTrialMeasures_store233, ax = ax)\n",
    "sns.lineplot(x = 'month_year', y = 'ChsPTxn' , data = preTrialMeasures_other, estimator= np.mean, ax = ax)\n",
    "ax.set_title('Total number of customers during pretrial period')\n",
    "ax.set_xlabel('Time')\n",
    "ax.set_ylabel('Number of customers')\n",
    "ax.legend(['store 77', 'comparison store', 'other stores'])"
   ]
  },
  {
   "cell_type": "code",
   "execution_count": 45,
   "metadata": {},
   "outputs": [
    {
     "data": {
      "text/plain": [
       "<matplotlib.legend.Legend at 0x7f98a854a1d0>"
      ]
     },
     "execution_count": 45,
     "metadata": {},
     "output_type": "execute_result"
    },
    {
     "data": {
      "image/png": "[encoded data removed]",
      "text/plain": [
       "<Figure size 432x288 with 1 Axes>"
      ]
     },
     "metadata": {
      "needs_background": "light"
     },
     "output_type": "display_data"
    }
   ],
   "source": [
    "preTrialMeasures_store86 = preTrialMeasures[ preTrialMeasures.STORE_NBR == 86]\n",
    "preTrialMeasures_store155 = preTrialMeasures[ preTrialMeasures.STORE_NBR == 155]\n",
    "preTrialMeasures_other = preTrialMeasures[ preTrialMeasures.STORE_NBR != 86]\n",
    "\n",
    "ax = plt.subplot()\n",
    "sns.lineplot(x = 'month_year', y = 'TxnPCust' , data = preTrialMeasures_store86, ax = ax)\n",
    "sns.lineplot(x = 'month_year', y = 'TxnPCust' , data = preTrialMeasures_store155, ax = ax)\n",
    "sns.lineplot(x = 'month_year', y = 'TxnPCust' , data = preTrialMeasures_other, estimator= np.mean, ax = ax)\n",
    "ax.set_title('Total number of customers during pretrial period')\n",
    "ax.set_xlabel('Time')\n",
    "ax.set_ylabel('Number of customers')\n",
    "ax.legend(['store 86', 'comparison store', 'other stores'])"
   ]
  },
  {
   "cell_type": "code",
   "execution_count": 46,
   "metadata": {},
   "outputs": [
    {
     "data": {
      "text/plain": [
       "<matplotlib.legend.Legend at 0x7f98b99abb50>"
      ]
     },
     "execution_count": 46,
     "metadata": {},
     "output_type": "execute_result"
    },
    {
     "data": {
      "image/png": "[encoded data removed]",
      "text/plain": [
       "<Figure size 432x288 with 1 Axes>"
      ]
     },
     "metadata": {
      "needs_background": "light"
     },
     "output_type": "display_data"
    }
   ],
   "source": [
    "preTrialMeasures_store88 = preTrialMeasures[ preTrialMeasures.STORE_NBR == 88]\n",
    "preTrialMeasures_store178 = preTrialMeasures[ preTrialMeasures.STORE_NBR == 178]\n",
    "preTrialMeasures_other = preTrialMeasures[ preTrialMeasures.STORE_NBR != 88]\n",
    "\n",
    "ax = plt.subplot()\n",
    "sns.lineplot(x = 'month_year', y = 'SALES_PC' , data = preTrialMeasures_store88, ax = ax)\n",
    "sns.lineplot(x = 'month_year', y = 'SALES_PC' , data = preTrialMeasures_store178, ax = ax)\n",
    "sns.lineplot(x = 'month_year', y = 'SALES_PC' , data = preTrialMeasures_other, estimator= np.mean, ax = ax)\n",
    "ax.set_title('Total sales during pretrial period')\n",
    "ax.set_xlabel('Time')\n",
    "ax.set_ylabel('Total Sales')\n",
    "ax.legend(['store 88', 'comparison store', 'other stores'])"
   ]
  },
  {
   "cell_type": "code",
   "execution_count": 47,
   "metadata": {},
   "outputs": [
    {
     "data": {
      "text/plain": [
       "<matplotlib.legend.Legend at 0x7f98c1eaffd0>"
      ]
     },
     "execution_count": 47,
     "metadata": {},
     "output_type": "execute_result"
    },
    {
     "data": {
      "image/png": "[encoded data removed]",
      "text/plain": [
       "<Figure size 432x288 with 1 Axes>"
      ]
     },
     "metadata": {
      "needs_background": "light"
     },
     "output_type": "display_data"
    }
   ],
   "source": [
    "preTrialMeasures_store88 = preTrialMeasures[ preTrialMeasures.STORE_NBR == 88]\n",
    "preTrialMeasures_store178 = preTrialMeasures[ preTrialMeasures.STORE_NBR == 178]\n",
    "preTrialMeasures_other = preTrialMeasures[ preTrialMeasures.STORE_NBR != 88]\n",
    "\n",
    "ax = plt.subplot()\n",
    "sns.lineplot(x = 'month_year', y = 'TxnPCust' , data = preTrialMeasures_store88, ax = ax)\n",
    "sns.lineplot(x = 'month_year', y = 'TxnPCust' , data = preTrialMeasures_store178, ax = ax)\n",
    "sns.lineplot(x = 'month_year', y = 'TxnPCust' , data = preTrialMeasures_other, estimator= np.mean, ax = ax)\n",
    "ax.set_title('Total number of customers during pretrial period')\n",
    "ax.set_xlabel('Time')\n",
    "ax.set_ylabel('Number of customers')\n",
    "ax.legend(['store 88', 'comparison store', 'other stores'])"
   ]
  },
  {
   "cell_type": "code",
   "execution_count": 71,
   "metadata": {},
   "outputs": [
    {
     "data": {
      "text/plain": [
       "<matplotlib.axes._subplots.AxesSubplot at 0x7f98ba3fc3d0>"
      ]
     },
     "execution_count": 71,
     "metadata": {},
     "output_type": "execute_result"
    },
    {
     "data": {
      "image/png": "[encoded data removed]",
      "text/plain": [
       "<Figure size 1080x576 with 1 Axes>"
      ]
     },
     "metadata": {
      "needs_background": "light"
     },
     "output_type": "display_data"
    }
   ],
   "source": [
    "# after taking reference from model answer\n",
    "# from the above figure, we cannot answer how premium our target customers are.\n",
    "\n",
    "total = df.TOT_SALES.sum()\n",
    "pvt   = pd.pivot_table(df, index = ['LIFESTAGE'],columns = ['PREMIUM_CUSTOMER'], values=['TOT_SALES'],aggfunc='sum')\n",
    "pvt   = pvt.applymap(lambda x: round(x*100/total,2))\n",
    "pvt.plot(kind = 'bar', figsize = (15,8), stacked = False, )"
   ]
  },
  {
   "cell_type": "code",
   "execution_count": 72,
   "metadata": {},
   "outputs": [
    {
     "data": {
      "text/html": [
       "<div>\n",
       "<style scoped>\n",
       "    .dataframe tbody tr th:only-of-type {\n",
       "        vertical-align: middle;\n",
       "    }\n",
       "\n",
       "    .dataframe tbody tr th {\n",
       "        vertical-align: top;\n",
       "    }\n",
       "\n",
       "    .dataframe thead tr th {\n",
       "        text-align: left;\n",
       "    }\n",
       "\n",
       "    .dataframe thead tr:last-of-type th {\n",
       "        text-align: right;\n",
       "    }\n",
       "</style>\n",
       "<table border=\"1\" class=\"dataframe\">\n",
       "  <thead>\n",
       "    <tr>\n",
       "      <th></th>\n",
       "      <th colspan=\"3\" halign=\"left\">PROD_QTY</th>\n",
       "    </tr>\n",
       "    <tr>\n",
       "      <th>PREMIUM_CUSTOMER</th>\n",
       "      <th>Budget</th>\n",
       "      <th>Mainstream</th>\n",
       "      <th>Premium</th>\n",
       "    </tr>\n",
       "    <tr>\n",
       "      <th>LIFESTAGE</th>\n",
       "      <th></th>\n",
       "      <th></th>\n",
       "      <th></th>\n",
       "    </tr>\n",
       "  </thead>\n",
       "  <tbody>\n",
       "    <tr>\n",
       "      <th>MIDAGE SINGLES/COUPLES</th>\n",
       "      <td>9496</td>\n",
       "      <td>22699</td>\n",
       "      <td>15526</td>\n",
       "    </tr>\n",
       "    <tr>\n",
       "      <th>NEW FAMILIES</th>\n",
       "      <td>5571</td>\n",
       "      <td>4319</td>\n",
       "      <td>2957</td>\n",
       "    </tr>\n",
       "    <tr>\n",
       "      <th>OLDER FAMILIES</th>\n",
       "      <td>45065</td>\n",
       "      <td>27756</td>\n",
       "      <td>21771</td>\n",
       "    </tr>\n",
       "    <tr>\n",
       "      <th>OLDER SINGLES/COUPLES</th>\n",
       "      <td>35220</td>\n",
       "      <td>34997</td>\n",
       "      <td>33986</td>\n",
       "    </tr>\n",
       "    <tr>\n",
       "      <th>RETIREES</th>\n",
       "      <td>28764</td>\n",
       "      <td>40518</td>\n",
       "      <td>24884</td>\n",
       "    </tr>\n",
       "    <tr>\n",
       "      <th>YOUNG FAMILIES</th>\n",
       "      <td>37111</td>\n",
       "      <td>25044</td>\n",
       "      <td>22406</td>\n",
       "    </tr>\n",
       "    <tr>\n",
       "      <th>YOUNG SINGLES/COUPLES</th>\n",
       "      <td>16671</td>\n",
       "      <td>38632</td>\n",
       "      <td>11331</td>\n",
       "    </tr>\n",
       "  </tbody>\n",
       "</table>\n",
       "</div>"
      ],
      "text/plain": [
       "                       PROD_QTY                   \n",
       "PREMIUM_CUSTOMER         Budget Mainstream Premium\n",
       "LIFESTAGE                                         \n",
       "MIDAGE SINGLES/COUPLES     9496      22699   15526\n",
       "NEW FAMILIES               5571       4319    2957\n",
       "OLDER FAMILIES            45065      27756   21771\n",
       "OLDER SINGLES/COUPLES     35220      34997   33986\n",
       "RETIREES                  28764      40518   24884\n",
       "YOUNG FAMILIES            37111      25044   22406\n",
       "YOUNG SINGLES/COUPLES     16671      38632   11331"
      ]
     },
     "execution_count": 72,
     "metadata": {},
     "output_type": "execute_result"
    }
   ],
   "source": [
    "# average number of chips units bought in a transaction\n",
    "\n",
    "# aucpc = masterdf[['TXN_ID','PROD_QTY']].groupby(['TXN_ID']).sum()\n",
    "lyl = pd.pivot_table(df, index='LIFESTAGE', columns='PREMIUM_CUSTOMER', values=['LYLTY_CARD_NBR'], aggfunc=[pd.Series.nunique])\n",
    "aucpc = pd.pivot_table(df, index='LIFESTAGE', columns='PREMIUM_CUSTOMER', values=['PROD_QTY'], aggfunc='sum')\n",
    "# aucpc=aucpc.applymap(lambda x:round(x,3))\n",
    "aucpc"
   ]
  },
  {
   "cell_type": "code",
   "execution_count": 49,
   "metadata": {},
   "outputs": [
    {
     "data": {
      "text/plain": [
       "264834"
      ]
     },
     "execution_count": 49,
     "metadata": {},
     "output_type": "execute_result"
    }
   ],
   "source": [
    "total = df.TXN_ID.count()\n",
    "total"
   ]
  },
  {
   "cell_type": "code",
   "execution_count": 50,
   "metadata": {},
   "outputs": [
    {
     "data": {
      "text/html": [
       "<div>\n",
       "<style scoped>\n",
       "    .dataframe tbody tr th:only-of-type {\n",
       "        vertical-align: middle;\n",
       "    }\n",
       "\n",
       "    .dataframe tbody tr th {\n",
       "        vertical-align: top;\n",
       "    }\n",
       "\n",
       "    .dataframe thead th {\n",
       "        text-align: right;\n",
       "    }\n",
       "</style>\n",
       "<table border=\"1\" class=\"dataframe\">\n",
       "  <thead>\n",
       "    <tr style=\"text-align: right;\">\n",
       "      <th></th>\n",
       "      <th>LYLTY_CARD_NBR</th>\n",
       "      <th>DATE</th>\n",
       "      <th>STORE_NBR</th>\n",
       "      <th>TXN_ID</th>\n",
       "      <th>PROD_NBR</th>\n",
       "      <th>PROD_NAME</th>\n",
       "      <th>PROD_QTY</th>\n",
       "      <th>TOT_SALES</th>\n",
       "      <th>PACK_SIZE</th>\n",
       "      <th>BRAND</th>\n",
       "      <th>LIFESTAGE</th>\n",
       "      <th>PREMIUM_CUSTOMER</th>\n",
       "      <th>month_year</th>\n",
       "      <th>UPRICE</th>\n",
       "    </tr>\n",
       "  </thead>\n",
       "  <tbody>\n",
       "    <tr>\n",
       "      <th>0</th>\n",
       "      <td>1000</td>\n",
       "      <td>2018-10-17</td>\n",
       "      <td>1</td>\n",
       "      <td>1</td>\n",
       "      <td>5</td>\n",
       "      <td>Natural Chip        Compny SeaSalt175g</td>\n",
       "      <td>2</td>\n",
       "      <td>6.0</td>\n",
       "      <td>175</td>\n",
       "      <td>NATURAL</td>\n",
       "      <td>YOUNG SINGLES/COUPLES</td>\n",
       "      <td>Premium</td>\n",
       "      <td>2018-10</td>\n",
       "      <td>3.0</td>\n",
       "    </tr>\n",
       "    <tr>\n",
       "      <th>1</th>\n",
       "      <td>1002</td>\n",
       "      <td>2018-09-16</td>\n",
       "      <td>1</td>\n",
       "      <td>2</td>\n",
       "      <td>58</td>\n",
       "      <td>Red Rock Deli Chikn&amp;Garlic Aioli 150g</td>\n",
       "      <td>1</td>\n",
       "      <td>2.7</td>\n",
       "      <td>150</td>\n",
       "      <td>RRD</td>\n",
       "      <td>YOUNG SINGLES/COUPLES</td>\n",
       "      <td>Mainstream</td>\n",
       "      <td>2018-09</td>\n",
       "      <td>2.7</td>\n",
       "    </tr>\n",
       "    <tr>\n",
       "      <th>2</th>\n",
       "      <td>1003</td>\n",
       "      <td>2019-03-07</td>\n",
       "      <td>1</td>\n",
       "      <td>3</td>\n",
       "      <td>52</td>\n",
       "      <td>Grain Waves Sour    Cream&amp;Chives 210G</td>\n",
       "      <td>1</td>\n",
       "      <td>3.6</td>\n",
       "      <td>210</td>\n",
       "      <td>GRNWVES</td>\n",
       "      <td>YOUNG FAMILIES</td>\n",
       "      <td>Budget</td>\n",
       "      <td>2019-03</td>\n",
       "      <td>3.6</td>\n",
       "    </tr>\n",
       "    <tr>\n",
       "      <th>3</th>\n",
       "      <td>1003</td>\n",
       "      <td>2019-03-08</td>\n",
       "      <td>1</td>\n",
       "      <td>4</td>\n",
       "      <td>106</td>\n",
       "      <td>Natural ChipCo      Hony Soy Chckn175g</td>\n",
       "      <td>1</td>\n",
       "      <td>3.0</td>\n",
       "      <td>175</td>\n",
       "      <td>NATURAL</td>\n",
       "      <td>YOUNG FAMILIES</td>\n",
       "      <td>Budget</td>\n",
       "      <td>2019-03</td>\n",
       "      <td>3.0</td>\n",
       "    </tr>\n",
       "    <tr>\n",
       "      <th>4</th>\n",
       "      <td>1004</td>\n",
       "      <td>2018-11-02</td>\n",
       "      <td>1</td>\n",
       "      <td>5</td>\n",
       "      <td>96</td>\n",
       "      <td>WW Original Stacked Chips 160g</td>\n",
       "      <td>1</td>\n",
       "      <td>1.9</td>\n",
       "      <td>160</td>\n",
       "      <td>WOOLWORTHS</td>\n",
       "      <td>OLDER SINGLES/COUPLES</td>\n",
       "      <td>Mainstream</td>\n",
       "      <td>2018-11</td>\n",
       "      <td>1.9</td>\n",
       "    </tr>\n",
       "    <tr>\n",
       "      <th>...</th>\n",
       "      <td>...</td>\n",
       "      <td>...</td>\n",
       "      <td>...</td>\n",
       "      <td>...</td>\n",
       "      <td>...</td>\n",
       "      <td>...</td>\n",
       "      <td>...</td>\n",
       "      <td>...</td>\n",
       "      <td>...</td>\n",
       "      <td>...</td>\n",
       "      <td>...</td>\n",
       "      <td>...</td>\n",
       "      <td>...</td>\n",
       "      <td>...</td>\n",
       "    </tr>\n",
       "    <tr>\n",
       "      <th>264829</th>\n",
       "      <td>2370701</td>\n",
       "      <td>2018-12-08</td>\n",
       "      <td>88</td>\n",
       "      <td>240378</td>\n",
       "      <td>24</td>\n",
       "      <td>Grain Waves         Sweet Chilli 210g</td>\n",
       "      <td>2</td>\n",
       "      <td>7.2</td>\n",
       "      <td>210</td>\n",
       "      <td>GRNWVES</td>\n",
       "      <td>YOUNG FAMILIES</td>\n",
       "      <td>Mainstream</td>\n",
       "      <td>2018-12</td>\n",
       "      <td>3.6</td>\n",
       "    </tr>\n",
       "    <tr>\n",
       "      <th>264830</th>\n",
       "      <td>2370751</td>\n",
       "      <td>2018-10-01</td>\n",
       "      <td>88</td>\n",
       "      <td>240394</td>\n",
       "      <td>60</td>\n",
       "      <td>Kettle Tortilla ChpsFeta&amp;Garlic 150g</td>\n",
       "      <td>2</td>\n",
       "      <td>9.2</td>\n",
       "      <td>150</td>\n",
       "      <td>KETTLE</td>\n",
       "      <td>YOUNG FAMILIES</td>\n",
       "      <td>Premium</td>\n",
       "      <td>2018-10</td>\n",
       "      <td>4.6</td>\n",
       "    </tr>\n",
       "    <tr>\n",
       "      <th>264831</th>\n",
       "      <td>2370961</td>\n",
       "      <td>2018-10-24</td>\n",
       "      <td>88</td>\n",
       "      <td>240480</td>\n",
       "      <td>70</td>\n",
       "      <td>Tyrrells Crisps     Lightly Salted 165g</td>\n",
       "      <td>2</td>\n",
       "      <td>8.4</td>\n",
       "      <td>165</td>\n",
       "      <td>TYRRELLS</td>\n",
       "      <td>OLDER FAMILIES</td>\n",
       "      <td>Budget</td>\n",
       "      <td>2018-10</td>\n",
       "      <td>4.2</td>\n",
       "    </tr>\n",
       "    <tr>\n",
       "      <th>264832</th>\n",
       "      <td>2370961</td>\n",
       "      <td>2018-10-27</td>\n",
       "      <td>88</td>\n",
       "      <td>240481</td>\n",
       "      <td>65</td>\n",
       "      <td>Old El Paso Salsa   Dip Chnky Tom Ht300g</td>\n",
       "      <td>2</td>\n",
       "      <td>10.2</td>\n",
       "      <td>300</td>\n",
       "      <td>OLD</td>\n",
       "      <td>OLDER FAMILIES</td>\n",
       "      <td>Budget</td>\n",
       "      <td>2018-10</td>\n",
       "      <td>5.1</td>\n",
       "    </tr>\n",
       "    <tr>\n",
       "      <th>264833</th>\n",
       "      <td>2373711</td>\n",
       "      <td>2018-12-14</td>\n",
       "      <td>88</td>\n",
       "      <td>241815</td>\n",
       "      <td>16</td>\n",
       "      <td>Smiths Crinkle Chips Salt &amp; Vinegar 330g</td>\n",
       "      <td>2</td>\n",
       "      <td>11.4</td>\n",
       "      <td>330</td>\n",
       "      <td>SMITHS</td>\n",
       "      <td>YOUNG SINGLES/COUPLES</td>\n",
       "      <td>Mainstream</td>\n",
       "      <td>2018-12</td>\n",
       "      <td>5.7</td>\n",
       "    </tr>\n",
       "  </tbody>\n",
       "</table>\n",
       "<p>264834 rows × 14 columns</p>\n",
       "</div>"
      ],
      "text/plain": [
       "        LYLTY_CARD_NBR        DATE  STORE_NBR  TXN_ID  PROD_NBR  \\\n",
       "0                 1000  2018-10-17          1       1         5   \n",
       "1                 1002  2018-09-16          1       2        58   \n",
       "2                 1003  2019-03-07          1       3        52   \n",
       "3                 1003  2019-03-08          1       4       106   \n",
       "4                 1004  2018-11-02          1       5        96   \n",
       "...                ...         ...        ...     ...       ...   \n",
       "264829         2370701  2018-12-08         88  240378        24   \n",
       "264830         2370751  2018-10-01         88  240394        60   \n",
       "264831         2370961  2018-10-24         88  240480        70   \n",
       "264832         2370961  2018-10-27         88  240481        65   \n",
       "264833         2373711  2018-12-14         88  241815        16   \n",
       "\n",
       "                                       PROD_NAME  PROD_QTY  TOT_SALES  \\\n",
       "0         Natural Chip        Compny SeaSalt175g         2        6.0   \n",
       "1          Red Rock Deli Chikn&Garlic Aioli 150g         1        2.7   \n",
       "2          Grain Waves Sour    Cream&Chives 210G         1        3.6   \n",
       "3         Natural ChipCo      Hony Soy Chckn175g         1        3.0   \n",
       "4                 WW Original Stacked Chips 160g         1        1.9   \n",
       "...                                          ...       ...        ...   \n",
       "264829     Grain Waves         Sweet Chilli 210g         2        7.2   \n",
       "264830      Kettle Tortilla ChpsFeta&Garlic 150g         2        9.2   \n",
       "264831   Tyrrells Crisps     Lightly Salted 165g         2        8.4   \n",
       "264832  Old El Paso Salsa   Dip Chnky Tom Ht300g         2       10.2   \n",
       "264833  Smiths Crinkle Chips Salt & Vinegar 330g         2       11.4   \n",
       "\n",
       "        PACK_SIZE       BRAND              LIFESTAGE PREMIUM_CUSTOMER  \\\n",
       "0             175     NATURAL  YOUNG SINGLES/COUPLES          Premium   \n",
       "1             150         RRD  YOUNG SINGLES/COUPLES       Mainstream   \n",
       "2             210     GRNWVES         YOUNG FAMILIES           Budget   \n",
       "3             175     NATURAL         YOUNG FAMILIES           Budget   \n",
       "4             160  WOOLWORTHS  OLDER SINGLES/COUPLES       Mainstream   \n",
       "...           ...         ...                    ...              ...   \n",
       "264829        210     GRNWVES         YOUNG FAMILIES       Mainstream   \n",
       "264830        150      KETTLE         YOUNG FAMILIES          Premium   \n",
       "264831        165    TYRRELLS         OLDER FAMILIES           Budget   \n",
       "264832        300         OLD         OLDER FAMILIES           Budget   \n",
       "264833        330      SMITHS  YOUNG SINGLES/COUPLES       Mainstream   \n",
       "\n",
       "       month_year  UPRICE  \n",
       "0         2018-10     3.0  \n",
       "1         2018-09     2.7  \n",
       "2         2019-03     3.6  \n",
       "3         2019-03     3.0  \n",
       "4         2018-11     1.9  \n",
       "...           ...     ...  \n",
       "264829    2018-12     3.6  \n",
       "264830    2018-10     4.6  \n",
       "264831    2018-10     4.2  \n",
       "264832    2018-10     5.1  \n",
       "264833    2018-12     5.7  \n",
       "\n",
       "[264834 rows x 14 columns]"
      ]
     },
     "execution_count": 50,
     "metadata": {},
     "output_type": "execute_result"
    }
   ],
   "source": [
    "#Removing the duplicates\n",
    "\n",
    "data = df[pd.notnull(df['TXN_ID'])]\n",
    "data"
   ]
  },
  {
   "cell_type": "code",
   "execution_count": 51,
   "metadata": {},
   "outputs": [],
   "source": [
    "filtered_data = data[['LIFESTAGE','TXN_ID']].drop_duplicates()"
   ]
  },
  {
   "cell_type": "code",
   "execution_count": 52,
   "metadata": {},
   "outputs": [
    {
     "data": {
      "text/plain": [
       "<matplotlib.axes._subplots.AxesSubplot at 0x7f98c1f00490>"
      ]
     },
     "execution_count": 52,
     "metadata": {},
     "output_type": "execute_result"
    },
    {
     "data": {
      "image/png": "[encoded data removed]",
      "text/plain": [
       "<Figure size 432x288 with 1 Axes>"
      ]
     },
     "metadata": {
      "needs_background": "light"
     },
     "output_type": "display_data"
    }
   ],
   "source": [
    "# Checking the Distribution of LIFESTAGE\n",
    "\n",
    "filtered_data.LIFESTAGE.value_counts()[:10].plot(kind='bar')"
   ]
  },
  {
   "cell_type": "code",
   "execution_count": 53,
   "metadata": {},
   "outputs": [],
   "source": [
    "# We can see here \"OLDER SINGLE/COUPLES have the highest number of Purchases\""
   ]
  },
  {
   "cell_type": "code",
   "execution_count": 54,
   "metadata": {},
   "outputs": [
    {
     "data": {
      "text/html": [
       "<div>\n",
       "<style scoped>\n",
       "    .dataframe tbody tr th:only-of-type {\n",
       "        vertical-align: middle;\n",
       "    }\n",
       "\n",
       "    .dataframe tbody tr th {\n",
       "        vertical-align: top;\n",
       "    }\n",
       "\n",
       "    .dataframe thead th {\n",
       "        text-align: right;\n",
       "    }\n",
       "</style>\n",
       "<table border=\"1\" class=\"dataframe\">\n",
       "  <thead>\n",
       "    <tr style=\"text-align: right;\">\n",
       "      <th></th>\n",
       "      <th>TXN_ID</th>\n",
       "      <th>DATE</th>\n",
       "      <th>TOT_SALES</th>\n",
       "    </tr>\n",
       "  </thead>\n",
       "  <tbody>\n",
       "    <tr>\n",
       "      <th>0</th>\n",
       "      <td>1</td>\n",
       "      <td>2018-10-17</td>\n",
       "      <td>6.0</td>\n",
       "    </tr>\n",
       "    <tr>\n",
       "      <th>1</th>\n",
       "      <td>2</td>\n",
       "      <td>2018-09-16</td>\n",
       "      <td>2.7</td>\n",
       "    </tr>\n",
       "    <tr>\n",
       "      <th>2</th>\n",
       "      <td>3</td>\n",
       "      <td>2019-03-07</td>\n",
       "      <td>3.6</td>\n",
       "    </tr>\n",
       "    <tr>\n",
       "      <th>3</th>\n",
       "      <td>4</td>\n",
       "      <td>2019-03-08</td>\n",
       "      <td>3.0</td>\n",
       "    </tr>\n",
       "    <tr>\n",
       "      <th>4</th>\n",
       "      <td>5</td>\n",
       "      <td>2018-11-02</td>\n",
       "      <td>1.9</td>\n",
       "    </tr>\n",
       "  </tbody>\n",
       "</table>\n",
       "</div>"
      ],
      "text/plain": [
       "   TXN_ID        DATE  TOT_SALES\n",
       "0       1  2018-10-17        6.0\n",
       "1       2  2018-09-16        2.7\n",
       "2       3  2019-03-07        3.6\n",
       "3       4  2019-03-08        3.0\n",
       "4       5  2018-11-02        1.9"
      ]
     },
     "execution_count": 54,
     "metadata": {},
     "output_type": "execute_result"
    }
   ],
   "source": [
    "# Lets find the total sales for each transaction and we will working on customer ID, Sales, \n",
    "# Purhase date column only\n",
    "\n",
    "# Creating a Unit_Price column\n",
    "\n",
    "df[\"UNIT_PRICE\"] = df['TOT_SALES'] / df['PROD_QTY']\n",
    "\n",
    "# Create a new DF with only customer ID, Total sales, and Purhase date\n",
    "\n",
    "tx_final = df[['TXN_ID','DATE', 'TOT_SALES']]\n",
    "\n",
    "tx_final.head()"
   ]
  },
  {
   "cell_type": "code",
   "execution_count": 55,
   "metadata": {},
   "outputs": [
    {
     "name": "stdout",
     "output_type": "stream",
     "text": [
      "2019-06-30\n"
     ]
    }
   ],
   "source": [
    "# Find the last order date which will be used as a reference.\n",
    "\n",
    "last_order_date = df['DATE'].max()\n",
    "\n",
    "print(last_order_date)"
   ]
  },
  {
   "cell_type": "code",
   "execution_count": 56,
   "metadata": {},
   "outputs": [
    {
     "data": {
      "text/html": [
       "<div>\n",
       "<style scoped>\n",
       "    .dataframe tbody tr th:only-of-type {\n",
       "        vertical-align: middle;\n",
       "    }\n",
       "\n",
       "    .dataframe tbody tr th {\n",
       "        vertical-align: top;\n",
       "    }\n",
       "\n",
       "    .dataframe thead th {\n",
       "        text-align: right;\n",
       "    }\n",
       "</style>\n",
       "<table border=\"1\" class=\"dataframe\">\n",
       "  <thead>\n",
       "    <tr style=\"text-align: right;\">\n",
       "      <th></th>\n",
       "      <th>frequency</th>\n",
       "      <th>recency</th>\n",
       "      <th>T</th>\n",
       "      <th>monetary_value</th>\n",
       "    </tr>\n",
       "    <tr>\n",
       "      <th>TXN_ID</th>\n",
       "      <th></th>\n",
       "      <th></th>\n",
       "      <th></th>\n",
       "      <th></th>\n",
       "    </tr>\n",
       "  </thead>\n",
       "  <tbody>\n",
       "    <tr>\n",
       "      <th>1</th>\n",
       "      <td>0.0</td>\n",
       "      <td>0.0</td>\n",
       "      <td>256.0</td>\n",
       "      <td>0.0</td>\n",
       "    </tr>\n",
       "    <tr>\n",
       "      <th>2</th>\n",
       "      <td>0.0</td>\n",
       "      <td>0.0</td>\n",
       "      <td>287.0</td>\n",
       "      <td>0.0</td>\n",
       "    </tr>\n",
       "    <tr>\n",
       "      <th>3</th>\n",
       "      <td>0.0</td>\n",
       "      <td>0.0</td>\n",
       "      <td>115.0</td>\n",
       "      <td>0.0</td>\n",
       "    </tr>\n",
       "    <tr>\n",
       "      <th>4</th>\n",
       "      <td>0.0</td>\n",
       "      <td>0.0</td>\n",
       "      <td>114.0</td>\n",
       "      <td>0.0</td>\n",
       "    </tr>\n",
       "    <tr>\n",
       "      <th>5</th>\n",
       "      <td>0.0</td>\n",
       "      <td>0.0</td>\n",
       "      <td>240.0</td>\n",
       "      <td>0.0</td>\n",
       "    </tr>\n",
       "  </tbody>\n",
       "</table>\n",
       "</div>"
      ],
      "text/plain": [
       "        frequency  recency      T  monetary_value\n",
       "TXN_ID                                           \n",
       "1             0.0      0.0  256.0             0.0\n",
       "2             0.0      0.0  287.0             0.0\n",
       "3             0.0      0.0  115.0             0.0\n",
       "4             0.0      0.0  114.0             0.0\n",
       "5             0.0      0.0  240.0             0.0"
      ]
     },
     "execution_count": 56,
     "metadata": {},
     "output_type": "execute_result"
    }
   ],
   "source": [
    "# Converting the transaction data to summary data\n",
    "\n",
    "from lifetimes.utils import summary_data_from_transaction_data\n",
    "\n",
    "summary_tx_data = summary_data_from_transaction_data(tx_final, 'TXN_ID', 'DATE',\n",
    "                                                    monetary_value_col = 'TOT_SALES',\n",
    "                                                    observation_period_end = '2019-06-30')\n",
    "\n",
    "summary_tx_data.head()"
   ]
  },
  {
   "cell_type": "code",
   "execution_count": 57,
   "metadata": {},
   "outputs": [
    {
     "data": {
      "image/png": "[encoded data removed]",
      "text/plain": [
       "<Figure size 432x288 with 1 Axes>"
      ]
     },
     "metadata": {
      "needs_background": "light"
     },
     "output_type": "display_data"
    }
   ],
   "source": [
    "# Distribution of frequency\n",
    "\n",
    "plt.hist(summary_tx_data['frequency'], bins = 50)\n",
    "\n",
    "plt.show()\n",
    "\n",
    "# I can see majority of of the purchases are once only."
   ]
  },
  {
   "cell_type": "code",
   "execution_count": 58,
   "metadata": {},
   "outputs": [
    {
     "data": {
      "text/plain": [
       "99.99847980997625"
      ]
     },
     "execution_count": 58,
     "metadata": {},
     "output_type": "execute_result"
    }
   ],
   "source": [
    "# What percentage of customers purchased only once\n",
    "\n",
    "one_time_buyer = (sum(summary_tx_data['frequency']==0)/len(summary_tx_data))*100\n",
    "\n",
    "one_time_buyer"
   ]
  },
  {
   "cell_type": "code",
   "execution_count": 59,
   "metadata": {},
   "outputs": [
    {
     "data": {
      "text/plain": [
       "<lifetimes.BetaGeoFitter: fitted with 263125 subjects, a: 1.11, alpha: 50019.09, b: 1.11, r: 0.00>"
      ]
     },
     "execution_count": 59,
     "metadata": {},
     "output_type": "execute_result"
    }
   ],
   "source": [
    "# Import library\n",
    "\n",
    "from lifetimes import BetaGeoFitter\n",
    "\n",
    "# Create BG/NBD model\n",
    "\n",
    "BGF = BetaGeoFitter()\n",
    "\n",
    "# Fit the model on you summary data excluding monetary_value\n",
    "\n",
    "BGF.fit(summary_tx_data['frequency'], summary_tx_data['recency'], summary_tx_data['T'])"
   ]
  },
  {
   "cell_type": "code",
   "execution_count": 60,
   "metadata": {},
   "outputs": [
    {
     "data": {
      "text/html": [
       "<div>\n",
       "<style scoped>\n",
       "    .dataframe tbody tr th:only-of-type {\n",
       "        vertical-align: middle;\n",
       "    }\n",
       "\n",
       "    .dataframe tbody tr th {\n",
       "        vertical-align: top;\n",
       "    }\n",
       "\n",
       "    .dataframe thead th {\n",
       "        text-align: right;\n",
       "    }\n",
       "</style>\n",
       "<table border=\"1\" class=\"dataframe\">\n",
       "  <thead>\n",
       "    <tr style=\"text-align: right;\">\n",
       "      <th></th>\n",
       "      <th>frequency</th>\n",
       "      <th>recency</th>\n",
       "      <th>T</th>\n",
       "      <th>monetary_value</th>\n",
       "      <th>Pred_tx_num</th>\n",
       "    </tr>\n",
       "    <tr>\n",
       "      <th>TXN_ID</th>\n",
       "      <th></th>\n",
       "      <th></th>\n",
       "      <th></th>\n",
       "      <th></th>\n",
       "      <th></th>\n",
       "    </tr>\n",
       "  </thead>\n",
       "  <tbody>\n",
       "    <tr>\n",
       "      <th>156002</th>\n",
       "      <td>1.0</td>\n",
       "      <td>14.0</td>\n",
       "      <td>141.0</td>\n",
       "      <td>11.8</td>\n",
       "      <td>9.995924e-05</td>\n",
       "    </tr>\n",
       "    <tr>\n",
       "      <th>155469</th>\n",
       "      <td>1.0</td>\n",
       "      <td>187.0</td>\n",
       "      <td>212.0</td>\n",
       "      <td>8.8</td>\n",
       "      <td>9.992020e-05</td>\n",
       "    </tr>\n",
       "    <tr>\n",
       "      <th>50042</th>\n",
       "      <td>1.0</td>\n",
       "      <td>1.0</td>\n",
       "      <td>196.0</td>\n",
       "      <td>3.8</td>\n",
       "      <td>9.978170e-05</td>\n",
       "    </tr>\n",
       "    <tr>\n",
       "      <th>155468</th>\n",
       "      <td>1.0</td>\n",
       "      <td>95.0</td>\n",
       "      <td>321.0</td>\n",
       "      <td>6.0</td>\n",
       "      <td>9.950347e-05</td>\n",
       "    </tr>\n",
       "    <tr>\n",
       "      <th>228592</th>\n",
       "      <td>0.0</td>\n",
       "      <td>0.0</td>\n",
       "      <td>0.0</td>\n",
       "      <td>0.0</td>\n",
       "      <td>8.378125e-07</td>\n",
       "    </tr>\n",
       "    <tr>\n",
       "      <th>...</th>\n",
       "      <td>...</td>\n",
       "      <td>...</td>\n",
       "      <td>...</td>\n",
       "      <td>...</td>\n",
       "      <td>...</td>\n",
       "    </tr>\n",
       "    <tr>\n",
       "      <th>60828</th>\n",
       "      <td>0.0</td>\n",
       "      <td>0.0</td>\n",
       "      <td>364.0</td>\n",
       "      <td>0.0</td>\n",
       "      <td>8.317599e-07</td>\n",
       "    </tr>\n",
       "    <tr>\n",
       "      <th>244867</th>\n",
       "      <td>0.0</td>\n",
       "      <td>0.0</td>\n",
       "      <td>364.0</td>\n",
       "      <td>0.0</td>\n",
       "      <td>8.317599e-07</td>\n",
       "    </tr>\n",
       "    <tr>\n",
       "      <th>229122</th>\n",
       "      <td>0.0</td>\n",
       "      <td>0.0</td>\n",
       "      <td>364.0</td>\n",
       "      <td>0.0</td>\n",
       "      <td>8.317599e-07</td>\n",
       "    </tr>\n",
       "    <tr>\n",
       "      <th>67241</th>\n",
       "      <td>0.0</td>\n",
       "      <td>0.0</td>\n",
       "      <td>364.0</td>\n",
       "      <td>0.0</td>\n",
       "      <td>8.317599e-07</td>\n",
       "    </tr>\n",
       "    <tr>\n",
       "      <th>6874</th>\n",
       "      <td>0.0</td>\n",
       "      <td>0.0</td>\n",
       "      <td>364.0</td>\n",
       "      <td>0.0</td>\n",
       "      <td>8.317599e-07</td>\n",
       "    </tr>\n",
       "  </tbody>\n",
       "</table>\n",
       "<p>263125 rows × 5 columns</p>\n",
       "</div>"
      ],
      "text/plain": [
       "        frequency  recency      T  monetary_value   Pred_tx_num\n",
       "TXN_ID                                                         \n",
       "156002        1.0     14.0  141.0            11.8  9.995924e-05\n",
       "155469        1.0    187.0  212.0             8.8  9.992020e-05\n",
       "50042         1.0      1.0  196.0             3.8  9.978170e-05\n",
       "155468        1.0     95.0  321.0             6.0  9.950347e-05\n",
       "228592        0.0      0.0    0.0             0.0  8.378125e-07\n",
       "...           ...      ...    ...             ...           ...\n",
       "60828         0.0      0.0  364.0             0.0  8.317599e-07\n",
       "244867        0.0      0.0  364.0             0.0  8.317599e-07\n",
       "229122        0.0      0.0  364.0             0.0  8.317599e-07\n",
       "67241         0.0      0.0  364.0             0.0  8.317599e-07\n",
       "6874          0.0      0.0  364.0             0.0  8.317599e-07\n",
       "\n",
       "[263125 rows x 5 columns]"
      ]
     },
     "execution_count": 60,
     "metadata": {},
     "output_type": "execute_result"
    }
   ],
   "source": [
    "# Prediction of purchase for next 10 days\n",
    "\n",
    "summary_tx_data['Pred_tx_num'] = BGF.conditional_expected_number_of_purchases_up_to_time(10,\n",
    "                                                                                        summary_tx_data['frequency'],\n",
    "                                                                                        summary_tx_data['recency'],\n",
    "                                                                                        summary_tx_data['T'])\n",
    "\n",
    "# Arrange the data based on Pred_tx_num\n",
    "\n",
    "summary_tx_data.sort_values(by = 'Pred_tx_num', ascending = False)"
   ]
  },
  {
   "cell_type": "code",
   "execution_count": 61,
   "metadata": {},
   "outputs": [
    {
     "data": {
      "text/plain": [
       "<matplotlib.axes._subplots.AxesSubplot at 0x7f98c8a789d0>"
      ]
     },
     "execution_count": 61,
     "metadata": {},
     "output_type": "execute_result"
    },
    {
     "data": {
      "image/png": "[encoded data removed]",
      "text/plain": [
       "<Figure size 576x576 with 2 Axes>"
      ]
     },
     "metadata": {
      "needs_background": "light"
     },
     "output_type": "display_data"
    }
   ],
   "source": [
    "# Lets visualize our model and try to interpret \n",
    "\n",
    "from matplotlib import pyplot as plt\n",
    "from lifetimes.plotting import plot_frequency_recency_matrix\n",
    "\n",
    "# I can increase the ploting area\n",
    "\n",
    "plt.figure(figsize=(8,8))\n",
    "\n",
    "plot_frequency_recency_matrix(BGF)"
   ]
  },
  {
   "cell_type": "code",
   "execution_count": 62,
   "metadata": {},
   "outputs": [
    {
     "data": {
      "text/plain": [
       "<matplotlib.axes._subplots.AxesSubplot at 0x7f98c8a4d2d0>"
      ]
     },
     "execution_count": 62,
     "metadata": {},
     "output_type": "execute_result"
    },
    {
     "data": {
      "image/png": "[encoded data removed]",
      "text/plain": [
       "<Figure size 576x576 with 2 Axes>"
      ]
     },
     "metadata": {
      "needs_background": "light"
     },
     "output_type": "display_data"
    }
   ],
   "source": [
    "# lets try to visualize if a customer is still active or not\n",
    "\n",
    "from lifetimes.plotting import plot_probability_alive_matrix\n",
    "\n",
    "# I can increase the ploting area\n",
    "\n",
    "plt.figure(figsize=(8,8))\n",
    "\n",
    "plot_probability_alive_matrix(BGF)\n"
   ]
  },
  {
   "cell_type": "code",
   "execution_count": 63,
   "metadata": {},
   "outputs": [
    {
     "data": {
      "text/plain": [
       "<matplotlib.axes._subplots.AxesSubplot at 0x7f98ba39fc50>"
      ]
     },
     "execution_count": 63,
     "metadata": {},
     "output_type": "execute_result"
    },
    {
     "data": {
      "image/png": "[encoded data removed]",
      "text/plain": [
       "<Figure size 432x288 with 1 Axes>"
      ]
     },
     "metadata": {
      "needs_background": "light"
     },
     "output_type": "display_data"
    }
   ],
   "source": [
    "# Lets find if my model is correct or not\n",
    "\n",
    "from lifetimes.plotting import plot_period_transactions\n",
    "\n",
    "plot_period_transactions(BGF)"
   ]
  },
  {
   "cell_type": "code",
   "execution_count": 64,
   "metadata": {},
   "outputs": [
    {
     "data": {
      "text/html": [
       "<div>\n",
       "<style scoped>\n",
       "    .dataframe tbody tr th:only-of-type {\n",
       "        vertical-align: middle;\n",
       "    }\n",
       "\n",
       "    .dataframe tbody tr th {\n",
       "        vertical-align: top;\n",
       "    }\n",
       "\n",
       "    .dataframe thead th {\n",
       "        text-align: right;\n",
       "    }\n",
       "</style>\n",
       "<table border=\"1\" class=\"dataframe\">\n",
       "  <thead>\n",
       "    <tr style=\"text-align: right;\">\n",
       "      <th></th>\n",
       "      <th>monetary_value</th>\n",
       "      <th>frequency</th>\n",
       "    </tr>\n",
       "  </thead>\n",
       "  <tbody>\n",
       "    <tr>\n",
       "      <th>monetary_value</th>\n",
       "      <td>1.000000</td>\n",
       "      <td>0.930015</td>\n",
       "    </tr>\n",
       "    <tr>\n",
       "      <th>frequency</th>\n",
       "      <td>0.930015</td>\n",
       "      <td>1.000000</td>\n",
       "    </tr>\n",
       "  </tbody>\n",
       "</table>\n",
       "</div>"
      ],
      "text/plain": [
       "                monetary_value  frequency\n",
       "monetary_value        1.000000   0.930015\n",
       "frequency             0.930015   1.000000"
      ]
     },
     "execution_count": 64,
     "metadata": {},
     "output_type": "execute_result"
    }
   ],
   "source": [
    "# Lets find the correlation between monetary_value and frequency\n",
    "\n",
    "summary_tx_data[['monetary_value', 'frequency']].corr()"
   ]
  },
  {
   "cell_type": "code",
   "execution_count": 65,
   "metadata": {},
   "outputs": [
    {
     "data": {
      "text/plain": [
       "4"
      ]
     },
     "execution_count": 65,
     "metadata": {},
     "output_type": "execute_result"
    }
   ],
   "source": [
    "# lets find the number of customers who had at least one repeat purchase with the company\n",
    "\n",
    "shortlisted_cust = summary_tx_data[summary_tx_data['frequency']>0]\n",
    "\n",
    "len(shortlisted_cust)"
   ]
  },
  {
   "cell_type": "code",
   "execution_count": 66,
   "metadata": {},
   "outputs": [
    {
     "data": {
      "text/html": [
       "<div>\n",
       "<style scoped>\n",
       "    .dataframe tbody tr th:only-of-type {\n",
       "        vertical-align: middle;\n",
       "    }\n",
       "\n",
       "    .dataframe tbody tr th {\n",
       "        vertical-align: top;\n",
       "    }\n",
       "\n",
       "    .dataframe thead th {\n",
       "        text-align: right;\n",
       "    }\n",
       "</style>\n",
       "<table border=\"1\" class=\"dataframe\">\n",
       "  <thead>\n",
       "    <tr style=\"text-align: right;\">\n",
       "      <th></th>\n",
       "      <th>frequency</th>\n",
       "      <th>recency</th>\n",
       "      <th>monetary_value</th>\n",
       "    </tr>\n",
       "    <tr>\n",
       "      <th>TXN_ID</th>\n",
       "      <th></th>\n",
       "      <th></th>\n",
       "      <th></th>\n",
       "    </tr>\n",
       "  </thead>\n",
       "  <tbody>\n",
       "    <tr>\n",
       "      <th>1</th>\n",
       "      <td>0.0</td>\n",
       "      <td>0.0</td>\n",
       "      <td>0.0</td>\n",
       "    </tr>\n",
       "    <tr>\n",
       "      <th>2</th>\n",
       "      <td>0.0</td>\n",
       "      <td>0.0</td>\n",
       "      <td>0.0</td>\n",
       "    </tr>\n",
       "    <tr>\n",
       "      <th>3</th>\n",
       "      <td>0.0</td>\n",
       "      <td>0.0</td>\n",
       "      <td>0.0</td>\n",
       "    </tr>\n",
       "    <tr>\n",
       "      <th>4</th>\n",
       "      <td>0.0</td>\n",
       "      <td>0.0</td>\n",
       "      <td>0.0</td>\n",
       "    </tr>\n",
       "    <tr>\n",
       "      <th>5</th>\n",
       "      <td>0.0</td>\n",
       "      <td>0.0</td>\n",
       "      <td>0.0</td>\n",
       "    </tr>\n",
       "  </tbody>\n",
       "</table>\n",
       "</div>"
      ],
      "text/plain": [
       "        frequency  recency  monetary_value\n",
       "TXN_ID                                    \n",
       "1             0.0      0.0             0.0\n",
       "2             0.0      0.0             0.0\n",
       "3             0.0      0.0             0.0\n",
       "4             0.0      0.0             0.0\n",
       "5             0.0      0.0             0.0"
      ]
     },
     "execution_count": 66,
     "metadata": {},
     "output_type": "execute_result"
    }
   ],
   "source": [
    "# We have already calculated the RFM values for each customer\n",
    "\n",
    "summary_tx_data\n",
    "\n",
    "# From this data we do not need T, Pred_tx_num, CLV column\n",
    "\n",
    "RFM_table = summary_tx_data[['frequency', 'recency', 'monetary_value']]\n",
    "\n",
    "RFM_table.head()"
   ]
  },
  {
   "cell_type": "code",
   "execution_count": 67,
   "metadata": {},
   "outputs": [
    {
     "data": {
      "text/plain": [
       "{'frequency': {0.25: 0.0, 0.5: 0.0, 0.75: 0.0},\n",
       " 'recency': {0.25: 0.0, 0.5: 0.0, 0.75: 0.0},\n",
       " 'monetary_value': {0.25: 0.0, 0.5: 0.0, 0.75: 0.0}}"
      ]
     },
     "execution_count": 67,
     "metadata": {},
     "output_type": "execute_result"
    }
   ],
   "source": [
    "# Lets divide the data into 4 segments \n",
    "\n",
    "quantiles = RFM_table.quantile(q=[0.25, 0.5,0.75])\n",
    "\n",
    "quantiles\n",
    "\n",
    "# convert this quantiles into dict\n",
    "\n",
    "quantiles_dic = quantiles.to_dict()\n",
    "\n",
    "quantiles_dic"
   ]
  },
  {
   "cell_type": "code",
   "execution_count": 68,
   "metadata": {},
   "outputs": [],
   "source": [
    "# Create a UDF to find the R score, F and M score\n",
    "\n",
    "def score(x,p,d):\n",
    "    if x <= d[p][0.25]:\n",
    "        return 1\n",
    "    elif x <= d[p][0.5]:\n",
    "        return 2\n",
    "    elif x <= d[p][0.75]:\n",
    "        return 3\n",
    "    else: \n",
    "        return 4    "
   ]
  },
  {
   "cell_type": "code",
   "execution_count": 69,
   "metadata": {},
   "outputs": [],
   "source": [
    "# Create three segments of R,F,M\n",
    "\n",
    "RFM_table['R'] = RFM_table['recency'].apply(score, args = ('recency', quantiles_dic))\n",
    "\n",
    "RFM_table['F'] = RFM_table['frequency'].apply(score, args = ('frequency', quantiles_dic))\n",
    "\n",
    "RFM_table['M'] = RFM_table['monetary_value'].apply(score, args = ('monetary_value', quantiles_dic))"
   ]
  },
  {
   "cell_type": "code",
   "execution_count": 70,
   "metadata": {},
   "outputs": [
    {
     "data": {
      "text/html": [
       "<div>\n",
       "<style scoped>\n",
       "    .dataframe tbody tr th:only-of-type {\n",
       "        vertical-align: middle;\n",
       "    }\n",
       "\n",
       "    .dataframe tbody tr th {\n",
       "        vertical-align: top;\n",
       "    }\n",
       "\n",
       "    .dataframe thead th {\n",
       "        text-align: right;\n",
       "    }\n",
       "</style>\n",
       "<table border=\"1\" class=\"dataframe\">\n",
       "  <thead>\n",
       "    <tr style=\"text-align: right;\">\n",
       "      <th></th>\n",
       "      <th>frequency</th>\n",
       "      <th>recency</th>\n",
       "      <th>monetary_value</th>\n",
       "      <th>R</th>\n",
       "      <th>F</th>\n",
       "      <th>M</th>\n",
       "      <th>RFMGroup</th>\n",
       "      <th>RFMScore</th>\n",
       "    </tr>\n",
       "    <tr>\n",
       "      <th>TXN_ID</th>\n",
       "      <th></th>\n",
       "      <th></th>\n",
       "      <th></th>\n",
       "      <th></th>\n",
       "      <th></th>\n",
       "      <th></th>\n",
       "      <th></th>\n",
       "      <th></th>\n",
       "    </tr>\n",
       "  </thead>\n",
       "  <tbody>\n",
       "    <tr>\n",
       "      <th>1</th>\n",
       "      <td>0.0</td>\n",
       "      <td>0.0</td>\n",
       "      <td>0.0</td>\n",
       "      <td>1</td>\n",
       "      <td>1</td>\n",
       "      <td>1</td>\n",
       "      <td>111</td>\n",
       "      <td>3</td>\n",
       "    </tr>\n",
       "    <tr>\n",
       "      <th>2</th>\n",
       "      <td>0.0</td>\n",
       "      <td>0.0</td>\n",
       "      <td>0.0</td>\n",
       "      <td>1</td>\n",
       "      <td>1</td>\n",
       "      <td>1</td>\n",
       "      <td>111</td>\n",
       "      <td>3</td>\n",
       "    </tr>\n",
       "    <tr>\n",
       "      <th>3</th>\n",
       "      <td>0.0</td>\n",
       "      <td>0.0</td>\n",
       "      <td>0.0</td>\n",
       "      <td>1</td>\n",
       "      <td>1</td>\n",
       "      <td>1</td>\n",
       "      <td>111</td>\n",
       "      <td>3</td>\n",
       "    </tr>\n",
       "    <tr>\n",
       "      <th>4</th>\n",
       "      <td>0.0</td>\n",
       "      <td>0.0</td>\n",
       "      <td>0.0</td>\n",
       "      <td>1</td>\n",
       "      <td>1</td>\n",
       "      <td>1</td>\n",
       "      <td>111</td>\n",
       "      <td>3</td>\n",
       "    </tr>\n",
       "    <tr>\n",
       "      <th>5</th>\n",
       "      <td>0.0</td>\n",
       "      <td>0.0</td>\n",
       "      <td>0.0</td>\n",
       "      <td>1</td>\n",
       "      <td>1</td>\n",
       "      <td>1</td>\n",
       "      <td>111</td>\n",
       "      <td>3</td>\n",
       "    </tr>\n",
       "  </tbody>\n",
       "</table>\n",
       "</div>"
      ],
      "text/plain": [
       "        frequency  recency  monetary_value  R  F  M RFMGroup  RFMScore\n",
       "TXN_ID                                                                \n",
       "1             0.0      0.0             0.0  1  1  1      111         3\n",
       "2             0.0      0.0             0.0  1  1  1      111         3\n",
       "3             0.0      0.0             0.0  1  1  1      111         3\n",
       "4             0.0      0.0             0.0  1  1  1      111         3\n",
       "5             0.0      0.0             0.0  1  1  1      111         3"
      ]
     },
     "execution_count": 70,
     "metadata": {},
     "output_type": "execute_result"
    }
   ],
   "source": [
    "# Create a RFM group for each customer\n",
    "\n",
    "RFM_table['RFMGroup'] = RFM_table.R.map(str) + RFM_table.F.map(str) + RFM_table.M.map(str)\n",
    "\n",
    "# Calcuate and add score values column showing total sum of RFMGroup values\n",
    "\n",
    "RFM_table['RFMScore'] = RFM_table[['R', 'F', 'M']].sum(axis = 1)\n",
    "\n",
    "RFM_table.head()"
   ]
  },
  {
   "cell_type": "markdown",
   "metadata": {},
   "source": [
    "The RFM score suggest how good a customer is for us. Higher the score, better is the customer"
   ]
  },
  {
   "cell_type": "code",
   "execution_count": null,
   "metadata": {},
   "outputs": [],
   "source": [
    "#Conclusion\n",
    "\n",
    "#"
   ]
  }
 ],
 "metadata": {
  "kernelspec": {
   "display_name": "Python 3",
   "language": "python",
   "name": "python3"
  },
  "language_info": {
   "codemirror_mode": {
    "name": "ipython",
    "version": 3
   },
   "file_extension": ".py",
   "mimetype": "text/x-python",
   "name": "python",
   "nbconvert_exporter": "python",
   "pygments_lexer": "ipython3",
   "version": "3.7.6"
  }
 },
 "nbformat": 4,
 "nbformat_minor": 4
}
